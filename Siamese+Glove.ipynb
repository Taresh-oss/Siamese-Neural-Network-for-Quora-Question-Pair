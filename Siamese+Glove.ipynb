{
  "nbformat": 4,
  "nbformat_minor": 0,
  "metadata": {
    "accelerator": "GPU",
    "colab": {
      "name": "Siamese+Glove.ipynb",
      "provenance": [],
      "collapsed_sections": []
    },
    "kernelspec": {
      "display_name": "Python 3",
      "name": "python3"
    }
  },
  "cells": [
    {
      "cell_type": "code",
      "metadata": {
        "colab": {
          "base_uri": "https://localhost:8080/"
        },
        "id": "UeErpzjPgRHq",
        "outputId": "47a1e02d-7da1-4a33-b231-dd37ade9e9be"
      },
      "source": [
        "import warnings\n",
        "warnings.filterwarnings('ignore')\n",
        "#importing numpy library\n",
        "import numpy as np\n",
        "#importing pandas library\n",
        "import pandas as pd\n",
        "#importing seaborn library\n",
        "import seaborn as sns\n",
        "#imorting matplotlib library\n",
        "import matplotlib.pyplot as plt\n",
        "#Importing Library for train test split\n",
        "from sklearn.model_selection import train_test_split\n",
        "from string import punctuation\n",
        "import re\n",
        "import nltk\n",
        "nltk.download('punkt')\n",
        "nltk.download('stopwords')\n",
        "nltk.download('wordnet')\n",
        "import string\n",
        "from nltk.tokenize import word_tokenize\n",
        "from nltk.corpus import stopwords\n",
        "from keras.preprocessing.text import Tokenizer\n",
        "from keras.preprocessing.sequence import pad_sequences\n",
        "from keras.layers import Embedding"
      ],
      "execution_count": null,
      "outputs": [
        {
          "output_type": "stream",
          "text": [
            "[nltk_data] Downloading package punkt to /root/nltk_data...\n",
            "[nltk_data]   Package punkt is already up-to-date!\n",
            "[nltk_data] Downloading package stopwords to /root/nltk_data...\n",
            "[nltk_data]   Package stopwords is already up-to-date!\n",
            "[nltk_data] Downloading package wordnet to /root/nltk_data...\n",
            "[nltk_data]   Package wordnet is already up-to-date!\n"
          ],
          "name": "stdout"
        }
      ]
    },
    {
      "cell_type": "code",
      "metadata": {
        "colab": {
          "base_uri": "https://localhost:8080/"
        },
        "id": "oQIGiKFlEQed",
        "outputId": "d3e6d3dd-5899-49df-c7d6-0162a96e2e8e"
      },
      "source": [
        "from google.colab import drive\n",
        "drive.mount('/content/drive')"
      ],
      "execution_count": null,
      "outputs": [
        {
          "output_type": "stream",
          "text": [
            "Mounted at /content/drive\n"
          ],
          "name": "stdout"
        }
      ]
    },
    {
      "cell_type": "code",
      "metadata": {
        "colab": {
          "base_uri": "https://localhost:8080/"
        },
        "id": "smJa1cLYgW80",
        "outputId": "eaa678cf-c233-41c0-b0ca-8c69ef480dcf"
      },
      "source": [
        "#Reading csv file of Question Pair Dataset Available publically\n",
        "Quora_questions = pd.read_csv(\"//content//drive//MyDrive//questions.csv\")\n",
        "print(\"Number of data points:\",Quora_questions.shape[0])"
      ],
      "execution_count": null,
      "outputs": [
        {
          "output_type": "stream",
          "text": [
            "Number of data points: 404351\n"
          ],
          "name": "stdout"
        }
      ]
    },
    {
      "cell_type": "code",
      "metadata": {
        "colab": {
          "base_uri": "https://localhost:8080/",
          "height": 195
        },
        "id": "JLMU1CTSuhVC",
        "outputId": "15b1381f-885d-4afb-956f-3f2bf97162e2"
      },
      "source": [
        "#Splitting the dataset \n",
        "train,test = train_test_split(Quora_questions, test_size=0.33, random_state=42)\n",
        "train.head()"
      ],
      "execution_count": null,
      "outputs": [
        {
          "output_type": "execute_result",
          "data": {
            "text/html": [
              "<div>\n",
              "<style scoped>\n",
              "    .dataframe tbody tr th:only-of-type {\n",
              "        vertical-align: middle;\n",
              "    }\n",
              "\n",
              "    .dataframe tbody tr th {\n",
              "        vertical-align: top;\n",
              "    }\n",
              "\n",
              "    .dataframe thead th {\n",
              "        text-align: right;\n",
              "    }\n",
              "</style>\n",
              "<table border=\"1\" class=\"dataframe\">\n",
              "  <thead>\n",
              "    <tr style=\"text-align: right;\">\n",
              "      <th></th>\n",
              "      <th>id</th>\n",
              "      <th>qid1</th>\n",
              "      <th>qid2</th>\n",
              "      <th>question1</th>\n",
              "      <th>question2</th>\n",
              "      <th>is_duplicate</th>\n",
              "    </tr>\n",
              "  </thead>\n",
              "  <tbody>\n",
              "    <tr>\n",
              "      <th>181139</th>\n",
              "      <td>181139</td>\n",
              "      <td>357761</td>\n",
              "      <td>357762</td>\n",
              "      <td>What is the most interesting Road Trip Story y...</td>\n",
              "      <td>What are the best road trip songs?</td>\n",
              "      <td>0</td>\n",
              "    </tr>\n",
              "    <tr>\n",
              "      <th>284223</th>\n",
              "      <td>284223</td>\n",
              "      <td>558625</td>\n",
              "      <td>558626</td>\n",
              "      <td>How do I install a custom Rom in Spice mettle ...</td>\n",
              "      <td>How do I install a custom ROM in my rooted phone?</td>\n",
              "      <td>0</td>\n",
              "    </tr>\n",
              "    <tr>\n",
              "      <th>314840</th>\n",
              "      <td>314840</td>\n",
              "      <td>617874</td>\n",
              "      <td>617875</td>\n",
              "      <td>Has sugar hill gang's rapper's delight ever be...</td>\n",
              "      <td>What is the translation of the word \"by\" to Fr...</td>\n",
              "      <td>0</td>\n",
              "    </tr>\n",
              "    <tr>\n",
              "      <th>337099</th>\n",
              "      <td>337099</td>\n",
              "      <td>660891</td>\n",
              "      <td>660892</td>\n",
              "      <td>How do I study math?</td>\n",
              "      <td>How should I study math?</td>\n",
              "      <td>1</td>\n",
              "    </tr>\n",
              "    <tr>\n",
              "      <th>84444</th>\n",
              "      <td>84444</td>\n",
              "      <td>167712</td>\n",
              "      <td>167713</td>\n",
              "      <td>Which mobile development companies are based i...</td>\n",
              "      <td>Top mobile app companies in Miami Florida?</td>\n",
              "      <td>1</td>\n",
              "    </tr>\n",
              "  </tbody>\n",
              "</table>\n",
              "</div>"
            ],
            "text/plain": [
              "            id  ...  is_duplicate\n",
              "181139  181139  ...             0\n",
              "284223  284223  ...             0\n",
              "314840  314840  ...             0\n",
              "337099  337099  ...             1\n",
              "84444    84444  ...             1\n",
              "\n",
              "[5 rows x 6 columns]"
            ]
          },
          "metadata": {
            "tags": []
          },
          "execution_count": 4
        }
      ]
    },
    {
      "cell_type": "code",
      "metadata": {
        "colab": {
          "base_uri": "https://localhost:8080/"
        },
        "id": "e4tkbKv4wPzw",
        "outputId": "dcef8b9c-0dea-4402-a7a9-4e553f7c3cb9"
      },
      "source": [
        "#Getting to  know the information regarding the dataset\n",
        "Quora_questions.info()"
      ],
      "execution_count": null,
      "outputs": [
        {
          "output_type": "stream",
          "text": [
            "<class 'pandas.core.frame.DataFrame'>\n",
            "RangeIndex: 404351 entries, 0 to 404350\n",
            "Data columns (total 6 columns):\n",
            " #   Column        Non-Null Count   Dtype \n",
            "---  ------        --------------   ----- \n",
            " 0   id            404351 non-null  int64 \n",
            " 1   qid1          404351 non-null  int64 \n",
            " 2   qid2          404351 non-null  int64 \n",
            " 3   question1     404350 non-null  object\n",
            " 4   question2     404349 non-null  object\n",
            " 5   is_duplicate  404351 non-null  int64 \n",
            "dtypes: int64(4), object(2)\n",
            "memory usage: 18.5+ MB\n"
          ],
          "name": "stdout"
        }
      ]
    },
    {
      "cell_type": "code",
      "metadata": {
        "colab": {
          "base_uri": "https://localhost:8080/",
          "height": 279
        },
        "id": "z6UEeKQBwd0Y",
        "outputId": "fd5c695c-71a4-4312-bef9-fb056e734f5a"
      },
      "source": [
        "#check the total questions that are duplicate as per is_dupliacte column and other way round. For TRAINING SET\n",
        "train['is_duplicate'].value_counts().plot.bar()\n",
        "train['is_duplicate'].values\n",
        "\n"
      ],
      "execution_count": null,
      "outputs": [
        {
          "output_type": "execute_result",
          "data": {
            "text/plain": [
              "array([0, 0, 0, ..., 0, 0, 0])"
            ]
          },
          "metadata": {
            "tags": []
          },
          "execution_count": 6
        },
        {
          "output_type": "display_data",
          "data": {
            "image/png": "[encoded data removed]",
            "text/plain": [
              "<Figure size 432x288 with 1 Axes>"
            ]
          },
          "metadata": {
            "tags": [],
            "needs_background": "light"
          }
        }
      ]
    },
    {
      "cell_type": "code",
      "metadata": {
        "colab": {
          "base_uri": "https://localhost:8080/",
          "height": 279
        },
        "id": "x3bIUruxwgkb",
        "outputId": "c1b10135-cb40-46b0-8ad0-eebc1bb8465b"
      },
      "source": [
        "#check the total questions that are duplicate as per is_dupliacte column and other way round. For TESTING SET\n",
        "test['is_duplicate'].value_counts().plot.bar()\n"
      ],
      "execution_count": null,
      "outputs": [
        {
          "output_type": "execute_result",
          "data": {
            "text/plain": [
              "<matplotlib.axes._subplots.AxesSubplot at 0x7faba0093a10>"
            ]
          },
          "metadata": {
            "tags": []
          },
          "execution_count": 7
        },
        {
          "output_type": "display_data",
          "data": {
            "image/png": "[encoded data removed]",
            "text/plain": [
              "<Figure size 432x288 with 1 Axes>"
            ]
          },
          "metadata": {
            "tags": [],
            "needs_background": "light"
          }
        }
      ]
    },
    {
      "cell_type": "code",
      "metadata": {
        "colab": {
          "base_uri": "https://localhost:8080/"
        },
        "id": "-S8ATfdNwiNZ",
        "outputId": "65dd28fd-11a2-4215-c40d-477ff7cc9f44"
      },
      "source": [
        "#Dropping all the na values present in the training and testing set if any\n",
        "train.isna().values.any()\n",
        "train.dropna(inplace=True,axis=0)\n",
        "\n",
        "test.isna().values.any()\n",
        "test.dropna(inplace=True,axis=0)\n",
        "print(len(train))\n"
      ],
      "execution_count": null,
      "outputs": [
        {
          "output_type": "stream",
          "text": [
            "270912\n"
          ],
          "name": "stdout"
        }
      ]
    },
    {
      "cell_type": "code",
      "metadata": {
        "colab": {
          "base_uri": "https://localhost:8080/"
        },
        "id": "uKTgcodONl5-",
        "outputId": "e333aa4a-990b-4963-a828-b55d2c6ca25d"
      },
      "source": [
        "'''converting the train and testing question pairs to list of questions that will be passed on to the lstm models after data cleaning,\n",
        "preprocessing, and embedding it with different embedding models'''\n",
        "\n",
        "train_q1=pd.Series(train.question1.tolist())\n",
        "train_q2=pd.Series(train.question2.tolist())\n",
        "test_q1=pd.Series(test.question1.tolist())\n",
        "test_q2=pd.Series(test.question2.tolist())\n",
        "train_q1[:5]\n",
        "print(len(train_q1))"
      ],
      "execution_count": null,
      "outputs": [
        {
          "output_type": "stream",
          "text": [
            "270912\n"
          ],
          "name": "stdout"
        }
      ]
    },
    {
      "cell_type": "code",
      "metadata": {
        "id": "r1mKIZcFNrdb"
      },
      "source": [
        "def cleaning_text(q):\n",
        "    cleaned_text=[]\n",
        "    for text in q:\n",
        "        text = text.lower()\n",
        "\n",
        "        pattern = re.compile('http[s]?://(?:[a-zA-Z]|[0-9]|[$-_@.&+]|[!*\\(\\),]|(?:%[0-9a-fA-F][0-9a-fA-F]))+')\n",
        "        text = pattern.sub('', text)\n",
        "        text = re.sub(r\"i'm\", \"i am\", text)\n",
        "        text = re.sub(r\"he's\", \"he is\", text)\n",
        "        text = re.sub(r\"she's\", \"she is\", text)\n",
        "        text = re.sub(r\"that's\", \"that is\", text)        \n",
        "        text = re.sub(r\"what's\", \"what is\", text)\n",
        "        text = re.sub(r\"where's\", \"where is\", text) \n",
        "        text = re.sub(r\"\\'ll\", \" will\", text)  \n",
        "        text = re.sub(r\"\\'ve\", \" have\", text)  \n",
        "        text = re.sub(r\"\\'re\", \" are\", text)\n",
        "        text = re.sub(r\"\\'d\", \" would\", text)\n",
        "        text = re.sub(r\"\\'ve\", \" have\", text)\n",
        "        text = re.sub(r\"won't\", \"will not\", text)\n",
        "        text = re.sub(r\"don't\", \"do not\", text)\n",
        "        text = re.sub(r\"did't\", \"did not\", text)\n",
        "        text = re.sub(r\"can't\", \"can not\", text)\n",
        "        text = re.sub(r\"it's\", \"it is\", text)\n",
        "        text = re.sub(r\"couldn't\", \"could not\", text)\n",
        "        text = re.sub(r\"have't\", \"have not\", text)\n",
        "\n",
        "        text = re.sub(r\"[,.\\\"!@#$%^&*(){}?/;`~:<>+=-]\", \"\", text)\n",
        "        tokens = word_tokenize(text)\n",
        "        table = str.maketrans('', '', string.punctuation)\n",
        "        stripped = [w.translate(table) for w in tokens]\n",
        "        words = [word for word in stripped if word.isalpha()]\n",
        "        stop_words = set(stopwords.words(\"english\"))\n",
        "        stop_words.discard(\"not\")\n",
        "        words = [w for w in words if not w in stop_words]\n",
        "        words = ' '.join(words)\n",
        "        cleaned_text.append(words)\n",
        "    return cleaned_text\n"
      ],
      "execution_count": null,
      "outputs": []
    },
    {
      "cell_type": "code",
      "metadata": {
        "id": "KlDDRMnmUB9O"
      },
      "source": [
        "\n",
        "from nltk.tokenize import word_tokenize\n",
        "from nltk.stem.wordnet import WordNetLemmatizer\n",
        "wordnet = WordNetLemmatizer()\n",
        "\n",
        "def lemma(q1):\n",
        "    Lemmatized=[]\n",
        "    for sentences in q1:\n",
        "        tokens = word_tokenize(sentences)\n",
        "#         print(tokens)\n",
        "        # Lemmatization of words\n",
        "        \n",
        "        \n",
        "        lemmatized_output = ' '.join([wordnet.lemmatize(w) for w in tokens])\n",
        "        Lemmatized.append(lemmatized_output)\n",
        "    return Lemmatized"
      ],
      "execution_count": null,
      "outputs": []
    },
    {
      "cell_type": "code",
      "metadata": {
        "id": "1RLliN92UEUI"
      },
      "source": [
        "#storing the cleaned data\n",
        "cleaned_train_q1=cleaning_text(train_q1)\n",
        "cleaned_train_q2=cleaning_text(train_q2)\n",
        "cleaned_test_q1=cleaning_text(test_q1)\n",
        "cleaned_test_q2=cleaning_text(test_q2)\n",
        "\n"
      ],
      "execution_count": null,
      "outputs": []
    },
    {
      "cell_type": "code",
      "metadata": {
        "id": "it_lmxt_ZLtn"
      },
      "source": [
        "#storing the lemmatized question pairs:\n",
        "final_train_q1=lemma(cleaned_train_q1)\n",
        "final_train_q2=lemma(cleaned_train_q2)\n",
        "final_test_q1=lemma(cleaned_test_q1)\n",
        "final_test_q2=lemma(cleaned_test_q2)\n"
      ],
      "execution_count": null,
      "outputs": []
    },
    {
      "cell_type": "code",
      "metadata": {
        "id": "dGUSeM5GIc3B",
        "colab": {
          "base_uri": "https://localhost:8080/"
        },
        "outputId": "c3c4f7ce-6001-4ad2-9eeb-7947a842bde2"
      },
      "source": [
        "train_labels=train['is_duplicate'].values\n",
        "print(len(train_labels))\n",
        "test_labels=test['is_duplicate'].values\n",
        "print(len(test_labels))"
      ],
      "execution_count": null,
      "outputs": [
        {
          "output_type": "stream",
          "text": [
            "270912\n",
            "133436\n"
          ],
          "name": "stdout"
        }
      ]
    },
    {
      "cell_type": "code",
      "metadata": {
        "id": "NhIU0Aazkgaw",
        "colab": {
          "base_uri": "https://localhost:8080/"
        },
        "outputId": "e4d2178a-f251-4a21-f050-bf40c765c766"
      },
      "source": [
        "print(len(final_train_q1),len(train_labels))"
      ],
      "execution_count": null,
      "outputs": [
        {
          "output_type": "stream",
          "text": [
            "270912 270912\n"
          ],
          "name": "stdout"
        }
      ]
    },
    {
      "cell_type": "code",
      "metadata": {
        "id": "roKVjJAYct2O",
        "colab": {
          "base_uri": "https://localhost:8080/"
        },
        "outputId": "f0f114ed-4165-4ea0-d2f6-7a87533887c1"
      },
      "source": [
        "max_seq_length=0\n",
        "for i in final_train_q1:\n",
        "  max_seq_length=len(i.split(' ')) if len(i.split(' '))>max_seq_length else max_seq_length\n",
        "print(max_seq_length)"
      ],
      "execution_count": null,
      "outputs": [
        {
          "output_type": "stream",
          "text": [
            "53\n"
          ],
          "name": "stdout"
        }
      ]
    },
    {
      "cell_type": "code",
      "metadata": {
        "id": "0kEwJWJTc-UJ"
      },
      "source": [
        "\n",
        "max_seq_length = max(train.question1.map(lambda x: len(x)).max(),\n",
        "                     train.question2.map(lambda x: len(x)).max(),\n",
        "                     test.question1.map(lambda x: len(x)).max(),\n",
        "                     test.question2.map(lambda x: len(x)).max())\n",
        "\n",
        "tokenizer = Tokenizer(num_words=200000)\n",
        "tokenizer.fit_on_texts(final_train_q1+final_train_q2)\n",
        "\n",
        "tr_q1 = tokenizer.texts_to_sequences(final_train_q1)\n",
        "tr_q1 = pad_sequences(tr_q1, maxlen =54, padding='post')\n",
        "\n",
        "# tokenizer.fit_on_texts(final_train_q2)\n",
        "tr_q2 = tokenizer.texts_to_sequences(final_train_q2)\n",
        "tr_q2 = pad_sequences(tr_q2, maxlen = 54, padding='post')\n",
        "\n",
        "test_q1 = tokenizer.texts_to_sequences(final_test_q1)\n",
        "test_q1 = pad_sequences(test_q1, maxlen = 54, padding='post')\n",
        "\n",
        "test_q2 = tokenizer.texts_to_sequences(final_test_q2)\n",
        "test_q2 = pad_sequences(test_q2, maxlen = 54, padding='post')\n"
      ],
      "execution_count": null,
      "outputs": []
    },
    {
      "cell_type": "code",
      "metadata": {
        "id": "YA3uV4OTkHVu",
        "colab": {
          "base_uri": "https://localhost:8080/"
        },
        "outputId": "1ffb85ae-7a32-439d-90e3-4dc7686bcd00"
      },
      "source": [
        "total_words=tokenizer.word_index\n",
        "# print(total_words)\n",
        "print(len(tr_q1),len(tr_q2),len(train_labels))"
      ],
      "execution_count": null,
      "outputs": [
        {
          "output_type": "stream",
          "text": [
            "270912 270912 270912\n"
          ],
          "name": "stdout"
        }
      ]
    },
    {
      "cell_type": "code",
      "metadata": {
        "id": "_Eiv1Nh_CzDa"
      },
      "source": [
        "embedding_index = {}\n",
        "with open('//content//drive//MyDrive//glove.6B.200d.txt','r',encoding=\"utf8\") as f:\n",
        "    for line in f:\n",
        "        values = line.split()\n",
        "        word = values[0]\n",
        "        vectors = np.asarray(values[1:], 'float32')\n",
        "        embedding_index[word] = vectors\n",
        "    f.close()"
      ],
      "execution_count": null,
      "outputs": []
    },
    {
      "cell_type": "code",
      "metadata": {
        "id": "bPN48D5uC09k"
      },
      "source": [
        "\n",
        "embedding_matrix = np.random.random((len(total_words)+1, 200))\n",
        "for word, i in total_words.items():\n",
        "    embedding_vector = embedding_index.get(word)\n",
        "    if embedding_vector is not None:\n",
        "        embedding_matrix[i] = embedding_vector"
      ],
      "execution_count": null,
      "outputs": []
    },
    {
      "cell_type": "code",
      "metadata": {
        "id": "1qbwBVPFC2tA",
        "colab": {
          "base_uri": "https://localhost:8080/"
        },
        "outputId": "a6c81a86-4831-4dc9-a137-f7aa587278d0"
      },
      "source": [
        "# Model for Q1\n",
        "import tensorflow as tf\n",
        "from tensorflow import keras\n",
        "from tensorflow.keras.layers import BatchNormalization,Dropout,Dense,Multiply,Flatten\n",
        "from tensorflow.keras.layers import LSTM\n",
        "import keras.backend as K\n",
        "model_q1 = tf.keras.Sequential()\n",
        "model_q1.add(tf.keras.layers.Embedding(input_dim = len(total_words)+1,\n",
        "                       output_dim = 200,\n",
        "                      weights = [embedding_matrix],\n",
        "                      input_length =54))\n",
        "model_q1.add(LSTM(128, activation = 'tanh', return_sequences = True,dropout=0.3,recurrent_dropout=0.2))\n",
        "model_q1.add(Dropout(0.2))\n",
        "model_q1.add(Dense(60, activation = 'tanh'))\n",
        "model_q1.add(Dense(2, activation = 'sigmoid'))"
      ],
      "execution_count": null,
      "outputs": [
        {
          "output_type": "stream",
          "text": [
            "WARNING:tensorflow:Layer lstm will not use cuDNN kernel since it doesn't meet the cuDNN kernel criteria. It will use generic GPU kernel as fallback when running on GPU\n"
          ],
          "name": "stdout"
        }
      ]
    },
    {
      "cell_type": "code",
      "metadata": {
        "id": "Snq8b_dZC41K",
        "colab": {
          "base_uri": "https://localhost:8080/"
        },
        "outputId": "ffe38b96-9def-41ae-d2b7-42d1f9235f53"
      },
      "source": [
        "# Model for Q2\n",
        "model_q2 = tf.keras.Sequential()\n",
        "model_q2.add(tf.keras.layers.Embedding(input_dim = len(total_words)+1,\n",
        "                       output_dim = 200,\n",
        "                      weights = [embedding_matrix],\n",
        "                      input_length = 54))\n",
        "model_q2.add(LSTM(128, activation = 'tanh', return_sequences = True,dropout=0.3,recurrent_dropout=0.2))\n",
        "model_q2.add(Dropout(0.2))\n",
        "model_q2.add(Dense(60, activation = 'tanh'))\n",
        "model_q2.add(Dense(2, activation = 'sigmoid'))"
      ],
      "execution_count": null,
      "outputs": [
        {
          "output_type": "stream",
          "text": [
            "WARNING:tensorflow:Layer lstm_1 will not use cuDNN kernel since it doesn't meet the cuDNN kernel criteria. It will use generic GPU kernel as fallback when running on GPU\n"
          ],
          "name": "stdout"
        }
      ]
    },
    {
      "cell_type": "code",
      "metadata": {
        "id": "9PxbbRf6DAxr"
      },
      "source": [
        "\n",
        "# Merging the output of the two models,i.e, model_q1 and model_q2\n",
        "mergedOut = Multiply()([model_q1.output, model_q2.output])\n",
        "\n",
        "mergedOut = Flatten()(mergedOut)\n",
        "mergedOut = Dense(100, activation = 'relu')(mergedOut)\n",
        "mergedOut = Dropout(0.2)(mergedOut)\n",
        "mergedOut = Dense(50, activation = 'relu')(mergedOut)\n",
        "mergedOut = Dropout(0.2)(mergedOut)\n",
        "mergedOut = Dense(2, activation = 'sigmoid')(mergedOut)\n"
      ],
      "execution_count": null,
      "outputs": []
    },
    {
      "cell_type": "code",
      "metadata": {
        "id": "uytIBAspbpwh"
      },
      "source": [
        "from keras.callbacks import ModelCheckpoint\n",
        "checkpoint = ModelCheckpoint('model-{epoch:03d}-{val_accuracy:03f}.h5', verbose=1, monitor='val_accuracy',save_best_only=True, mode='auto')"
      ],
      "execution_count": null,
      "outputs": []
    },
    {
      "cell_type": "code",
      "metadata": {
        "id": "aVdLX3PrDDsE",
        "colab": {
          "base_uri": "https://localhost:8080/"
        },
        "outputId": "9ba16b29-0871-499a-e978-89185968777e"
      },
      "source": [
        "from tensorflow.keras.models import Model\n",
        "new_model = Model([model_q1.input, model_q2.input], mergedOut)\n",
        "new_model.compile(optimizer = 'adam', loss = 'sparse_categorical_crossentropy',metrics = ['accuracy'])\n",
        "history = new_model.fit([tr_q1,tr_q2],train_labels, batch_size = 1000, epochs = 10,validation_data=([test_q1,test_q2], test_labels),callbacks=[checkpoint],verbose=1)\n"
      ],
      "execution_count": null,
      "outputs": [
        {
          "output_type": "stream",
          "text": [
            "Epoch 1/10\n",
            "271/271 [==============================] - 198s 704ms/step - loss: 0.6242 - accuracy: 0.6367 - val_loss: 0.5164 - val_accuracy: 0.7446\n",
            "\n",
            "Epoch 00001: val_accuracy improved from -inf to 0.74460, saving model to model-001-0.744597.h5\n",
            "Epoch 2/10\n",
            "271/271 [==============================] - 190s 701ms/step - loss: 0.5041 - accuracy: 0.7528 - val_loss: 0.4903 - val_accuracy: 0.7580\n",
            "\n",
            "Epoch 00002: val_accuracy improved from 0.74460 to 0.75800, saving model to model-002-0.757996.h5\n",
            "Epoch 3/10\n",
            "271/271 [==============================] - 191s 705ms/step - loss: 0.4606 - accuracy: 0.7784 - val_loss: 0.4807 - val_accuracy: 0.7656\n",
            "\n",
            "Epoch 00003: val_accuracy improved from 0.75800 to 0.76556, saving model to model-003-0.765558.h5\n",
            "Epoch 4/10\n",
            "271/271 [==============================] - 192s 708ms/step - loss: 0.4250 - accuracy: 0.7972 - val_loss: 0.4825 - val_accuracy: 0.7715\n",
            "\n",
            "Epoch 00004: val_accuracy improved from 0.76556 to 0.77148, saving model to model-004-0.771478.h5\n",
            "Epoch 5/10\n",
            "271/271 [==============================] - 191s 705ms/step - loss: 0.3933 - accuracy: 0.8141 - val_loss: 0.4908 - val_accuracy: 0.7725\n",
            "\n",
            "Epoch 00005: val_accuracy improved from 0.77148 to 0.77251, saving model to model-005-0.772513.h5\n",
            "Epoch 6/10\n",
            "271/271 [==============================] - 190s 702ms/step - loss: 0.3615 - accuracy: 0.8318 - val_loss: 0.5132 - val_accuracy: 0.7705\n",
            "\n",
            "Epoch 00006: val_accuracy did not improve from 0.77251\n",
            "Epoch 7/10\n",
            "271/271 [==============================] - 190s 701ms/step - loss: 0.3384 - accuracy: 0.8419 - val_loss: 0.5283 - val_accuracy: 0.7668\n",
            "\n",
            "Epoch 00007: val_accuracy did not improve from 0.77251\n",
            "Epoch 8/10\n",
            "271/271 [==============================] - 190s 702ms/step - loss: 0.3160 - accuracy: 0.8525 - val_loss: 0.5692 - val_accuracy: 0.7716\n",
            "\n",
            "Epoch 00008: val_accuracy did not improve from 0.77251\n",
            "Epoch 9/10\n",
            "271/271 [==============================] - 189s 699ms/step - loss: 0.3012 - accuracy: 0.8603 - val_loss: 0.6002 - val_accuracy: 0.7726\n",
            "\n",
            "Epoch 00009: val_accuracy improved from 0.77251 to 0.77257, saving model to model-009-0.772573.h5\n",
            "Epoch 10/10\n",
            "271/271 [==============================] - 186s 688ms/step - loss: 0.2847 - accuracy: 0.8688 - val_loss: 0.6289 - val_accuracy: 0.7669\n",
            "\n",
            "Epoch 00010: val_accuracy did not improve from 0.77257\n"
          ],
          "name": "stdout"
        }
      ]
    },
    {
      "cell_type": "code",
      "metadata": {
        "id": "Iml8r0X-UNKW",
        "colab": {
          "base_uri": "https://localhost:8080/",
          "height": 545
        },
        "outputId": "0a4c8d8a-8dd5-4c12-8916-8dee4e654967"
      },
      "source": [
        "\n",
        "# Plot results\n",
        "import matplotlib.pyplot as plt\n",
        "\n",
        "acc = history.history['accuracy']\n",
        "val_acc = history.history['val_accuracy']\n",
        "loss = history.history['loss']\n",
        "val_loss = history.history['val_loss']\n",
        "\n",
        "epochs = range(1, len(acc)+1)\n",
        "\n",
        "plt.plot(epochs, acc, 'g', label='Training accuracy')\n",
        "plt.plot(epochs, val_acc, 'r', label='Validation accuracy')\n",
        "plt.title('Training and validation accuracy')\n",
        "plt.legend()\n",
        "\n",
        "plt.figure()\n",
        "\n",
        "plt.plot(epochs, loss, 'g', label='Training loss')\n",
        "plt.plot(epochs, val_loss, 'r', label='Validation loss')\n",
        "plt.title('Training and validation loss')\n",
        "plt.legend()\n",
        "\n",
        "plt.show()"
      ],
      "execution_count": null,
      "outputs": [
        {
          "output_type": "display_data",
          "data": {
            "image/png": "[encoded data removed]",
            "text/plain": [
              "<Figure size 432x288 with 1 Axes>"
            ]
          },
          "metadata": {
            "tags": [],
            "needs_background": "light"
          }
        },
        {
          "output_type": "display_data",
          "data": {
            "image/png": "[encoded data removed]",
            "text/plain": [
              "<Figure size 432x288 with 1 Axes>"
            ]
          },
          "metadata": {
            "tags": [],
            "needs_background": "light"
          }
        }
      ]
    },
    {
      "cell_type": "code",
      "metadata": {
        "id": "u88LQIxLQiyN"
      },
      "source": [
        "new_model.save('model_weights.h5')"
      ],
      "execution_count": null,
      "outputs": []
    },
    {
      "cell_type": "code",
      "metadata": {
        "id": "8yBdCPN1PNit",
        "colab": {
          "base_uri": "https://localhost:8080/"
        },
        "outputId": "05d69ab2-0312-475a-a1ed-5d94497a774a"
      },
      "source": [
        "model=tf.keras.models.load_model('model_weights.h5')"
      ],
      "execution_count": null,
      "outputs": [
        {
          "output_type": "stream",
          "text": [
            "WARNING:tensorflow:Layer lstm will not use cuDNN kernel since it doesn't meet the cuDNN kernel criteria. It will use generic GPU kernel as fallback when running on GPU\n",
            "WARNING:tensorflow:Layer lstm_1 will not use cuDNN kernel since it doesn't meet the cuDNN kernel criteria. It will use generic GPU kernel as fallback when running on GPU\n"
          ],
          "name": "stdout"
        }
      ]
    },
    {
      "cell_type": "code",
      "metadata": {
        "id": "wyN1PrwnOeQR",
        "colab": {
          "base_uri": "https://localhost:8080/"
        },
        "outputId": "0f6e406f-76a3-43e5-b3c3-cf869e596414"
      },
      "source": [
        "y_pred = model.evaluate([test_q1,test_q2],test_labels, batch_size=1000, verbose=1)"
      ],
      "execution_count": null,
      "outputs": [
        {
          "output_type": "stream",
          "text": [
            "134/134 [==============================] - 9s 63ms/step - loss: 0.6289 - accuracy: 0.7669\n"
          ],
          "name": "stdout"
        }
      ]
    },
    {
      "cell_type": "markdown",
      "metadata": {
        "id": "pZQypH1UvCQ0"
      },
      "source": [
        "Ma LSTM +Word2Vec"
      ]
    }
  ]
}
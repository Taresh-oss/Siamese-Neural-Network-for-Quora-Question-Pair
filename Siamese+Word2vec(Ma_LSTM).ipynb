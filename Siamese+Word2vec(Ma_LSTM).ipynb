{
  "nbformat": 4,
  "nbformat_minor": 0,
  "metadata": {
    "colab": {
      "name": "Siamese+Word2vec(Ma-LSTM).ipynb",
      "provenance": [],
      "collapsed_sections": []
    },
    "kernelspec": {
      "name": "python3",
      "display_name": "Python 3"
    },
    "accelerator": "GPU"
  },
  "cells": [
    {
      "cell_type": "code",
      "metadata": {
        "id": "UeErpzjPgRHq",
        "colab": {
          "base_uri": "https://localhost:8080/"
        },
        "outputId": "d20c732f-f509-4c99-f909-dcea3155ba5b"
      },
      "source": [
        "\n",
        "import warnings\n",
        "warnings.filterwarnings('ignore')\n",
        "#importing numpy library\n",
        "import numpy as np\n",
        "#importing pandas library\n",
        "import pandas as pd\n",
        "#importing seaborn library\n",
        "import seaborn as sns\n",
        "#imorting matplotlib library\n",
        "import matplotlib.pyplot as plt\n",
        "#Importing Library for train test split\n",
        "from sklearn.model_selection import train_test_split\n",
        "from string import punctuation\n",
        "import re\n",
        "import nltk\n",
        "nltk.download('punkt')\n",
        "nltk.download('stopwords')\n",
        "nltk.download('wordnet')\n",
        "import string\n",
        "from nltk.tokenize import word_tokenize\n",
        "from nltk.corpus import stopwords\n",
        "from keras.preprocessing.text import Tokenizer\n",
        "from keras.preprocessing.sequence import pad_sequences\n",
        "from keras.layers import Embedding\n",
        "import tensorflow as tf\n",
        "from tensorflow import keras\n",
        "from tensorflow.keras.layers import BatchNormalization,Dropout,Dense,Multiply,Flatten\n",
        "from tensorflow.keras.layers import LSTM\n",
        "from tensorflow.keras.backend import *\n",
        "import keras.backend as K\n",
        "from keras.models import Model"
      ],
      "execution_count": null,
      "outputs": [
        {
          "output_type": "stream",
          "text": [
            "[nltk_data] Downloading package punkt to /root/nltk_data...\n",
            "[nltk_data]   Package punkt is already up-to-date!\n",
            "[nltk_data] Downloading package stopwords to /root/nltk_data...\n",
            "[nltk_data]   Package stopwords is already up-to-date!\n",
            "[nltk_data] Downloading package wordnet to /root/nltk_data...\n",
            "[nltk_data]   Package wordnet is already up-to-date!\n"
          ],
          "name": "stdout"
        }
      ]
    },
    {
      "cell_type": "code",
      "metadata": {
        "colab": {
          "base_uri": "https://localhost:8080/"
        },
        "id": "eYrXI4c_gk02",
        "outputId": "d0aa6dc8-b922-4cf3-8de5-7a2fe7524b77"
      },
      "source": [
        "from google.colab import drive\n",
        "drive.mount('/content/drive')"
      ],
      "execution_count": null,
      "outputs": [
        {
          "output_type": "stream",
          "text": [
            "Drive already mounted at /content/drive; to attempt to forcibly remount, call drive.mount(\"/content/drive\", force_remount=True).\n"
          ],
          "name": "stdout"
        }
      ]
    },
    {
      "cell_type": "code",
      "metadata": {
        "id": "smJa1cLYgW80",
        "colab": {
          "base_uri": "https://localhost:8080/"
        },
        "outputId": "9b4dcc27-7548-4509-b327-4ee8e7dc99ae"
      },
      "source": [
        "#Reading csv file of Question Pair Dataset Available publically\n",
        "Quora_questions = pd.read_csv(\"//content//drive//MyDrive//questions.csv\")\n",
        "print(\"Number of data points:\",Quora_questions.shape[0])"
      ],
      "execution_count": null,
      "outputs": [
        {
          "output_type": "stream",
          "text": [
            "Number of data points: 404351\n"
          ],
          "name": "stdout"
        }
      ]
    },
    {
      "cell_type": "code",
      "metadata": {
        "colab": {
          "base_uri": "https://localhost:8080/",
          "height": 195
        },
        "id": "JLMU1CTSuhVC",
        "outputId": "57dac046-1be4-4348-cd22-5c5611629ab7"
      },
      "source": [
        "#Splitting the dataset \n",
        "train,test = train_test_split(Quora_questions, test_size=0.33, random_state=42)\n",
        "train.head()"
      ],
      "execution_count": null,
      "outputs": [
        {
          "output_type": "execute_result",
          "data": {
            "text/html": [
              "<div>\n",
              "<style scoped>\n",
              "    .dataframe tbody tr th:only-of-type {\n",
              "        vertical-align: middle;\n",
              "    }\n",
              "\n",
              "    .dataframe tbody tr th {\n",
              "        vertical-align: top;\n",
              "    }\n",
              "\n",
              "    .dataframe thead th {\n",
              "        text-align: right;\n",
              "    }\n",
              "</style>\n",
              "<table border=\"1\" class=\"dataframe\">\n",
              "  <thead>\n",
              "    <tr style=\"text-align: right;\">\n",
              "      <th></th>\n",
              "      <th>id</th>\n",
              "      <th>qid1</th>\n",
              "      <th>qid2</th>\n",
              "      <th>question1</th>\n",
              "      <th>question2</th>\n",
              "      <th>is_duplicate</th>\n",
              "    </tr>\n",
              "  </thead>\n",
              "  <tbody>\n",
              "    <tr>\n",
              "      <th>181139</th>\n",
              "      <td>181139</td>\n",
              "      <td>357761</td>\n",
              "      <td>357762</td>\n",
              "      <td>What is the most interesting Road Trip Story y...</td>\n",
              "      <td>What are the best road trip songs?</td>\n",
              "      <td>0</td>\n",
              "    </tr>\n",
              "    <tr>\n",
              "      <th>284223</th>\n",
              "      <td>284223</td>\n",
              "      <td>558625</td>\n",
              "      <td>558626</td>\n",
              "      <td>How do I install a custom Rom in Spice mettle ...</td>\n",
              "      <td>How do I install a custom ROM in my rooted phone?</td>\n",
              "      <td>0</td>\n",
              "    </tr>\n",
              "    <tr>\n",
              "      <th>314840</th>\n",
              "      <td>314840</td>\n",
              "      <td>617874</td>\n",
              "      <td>617875</td>\n",
              "      <td>Has sugar hill gang's rapper's delight ever be...</td>\n",
              "      <td>What is the translation of the word \"by\" to Fr...</td>\n",
              "      <td>0</td>\n",
              "    </tr>\n",
              "    <tr>\n",
              "      <th>337099</th>\n",
              "      <td>337099</td>\n",
              "      <td>660891</td>\n",
              "      <td>660892</td>\n",
              "      <td>How do I study math?</td>\n",
              "      <td>How should I study math?</td>\n",
              "      <td>1</td>\n",
              "    </tr>\n",
              "    <tr>\n",
              "      <th>84444</th>\n",
              "      <td>84444</td>\n",
              "      <td>167712</td>\n",
              "      <td>167713</td>\n",
              "      <td>Which mobile development companies are based i...</td>\n",
              "      <td>Top mobile app companies in Miami Florida?</td>\n",
              "      <td>1</td>\n",
              "    </tr>\n",
              "  </tbody>\n",
              "</table>\n",
              "</div>"
            ],
            "text/plain": [
              "            id  ...  is_duplicate\n",
              "181139  181139  ...             0\n",
              "284223  284223  ...             0\n",
              "314840  314840  ...             0\n",
              "337099  337099  ...             1\n",
              "84444    84444  ...             1\n",
              "\n",
              "[5 rows x 6 columns]"
            ]
          },
          "metadata": {
            "tags": []
          },
          "execution_count": 4
        }
      ]
    },
    {
      "cell_type": "code",
      "metadata": {
        "colab": {
          "base_uri": "https://localhost:8080/"
        },
        "id": "e4tkbKv4wPzw",
        "outputId": "11f5925a-1c0b-46a9-c337-83726d1a6fa4"
      },
      "source": [
        "#Getting to  know the information regarding the dataset\n",
        "Quora_questions.info()"
      ],
      "execution_count": null,
      "outputs": [
        {
          "output_type": "stream",
          "text": [
            "<class 'pandas.core.frame.DataFrame'>\n",
            "RangeIndex: 404351 entries, 0 to 404350\n",
            "Data columns (total 6 columns):\n",
            " #   Column        Non-Null Count   Dtype \n",
            "---  ------        --------------   ----- \n",
            " 0   id            404351 non-null  int64 \n",
            " 1   qid1          404351 non-null  int64 \n",
            " 2   qid2          404351 non-null  int64 \n",
            " 3   question1     404350 non-null  object\n",
            " 4   question2     404349 non-null  object\n",
            " 5   is_duplicate  404351 non-null  int64 \n",
            "dtypes: int64(4), object(2)\n",
            "memory usage: 18.5+ MB\n"
          ],
          "name": "stdout"
        }
      ]
    },
    {
      "cell_type": "code",
      "metadata": {
        "colab": {
          "base_uri": "https://localhost:8080/",
          "height": 279
        },
        "id": "z6UEeKQBwd0Y",
        "outputId": "07043e4f-cbb2-4a11-a364-dfce717ffa97"
      },
      "source": [
        "#check the total questions that are duplicate as per is_dupliacte column and other way round. For TRAINING SET\n",
        "train['is_duplicate'].value_counts().plot.bar()\n",
        "train['is_duplicate'].values\n",
        "\n"
      ],
      "execution_count": null,
      "outputs": [
        {
          "output_type": "execute_result",
          "data": {
            "text/plain": [
              "array([0, 0, 0, ..., 0, 0, 0])"
            ]
          },
          "metadata": {
            "tags": []
          },
          "execution_count": 6
        },
        {
          "output_type": "display_data",
          "data": {
            "image/png": "[encoded data removed]",
            "text/plain": [
              "<Figure size 432x288 with 1 Axes>"
            ]
          },
          "metadata": {
            "tags": [],
            "needs_background": "light"
          }
        }
      ]
    },
    {
      "cell_type": "code",
      "metadata": {
        "colab": {
          "base_uri": "https://localhost:8080/",
          "height": 279
        },
        "id": "x3bIUruxwgkb",
        "outputId": "4c05907d-f030-4a19-96a8-2812dc6632e9"
      },
      "source": [
        "#check the total questions that are duplicate as per is_dupliacte column and other way round. For TESTING SET\n",
        "test['is_duplicate'].value_counts().plot.bar()\n"
      ],
      "execution_count": null,
      "outputs": [
        {
          "output_type": "execute_result",
          "data": {
            "text/plain": [
              "<matplotlib.axes._subplots.AxesSubplot at 0x7f1ece334990>"
            ]
          },
          "metadata": {
            "tags": []
          },
          "execution_count": 7
        },
        {
          "output_type": "display_data",
          "data": {
            "image/png": "[encoded data removed]",
            "text/plain": [
              "<Figure size 432x288 with 1 Axes>"
            ]
          },
          "metadata": {
            "tags": [],
            "needs_background": "light"
          }
        }
      ]
    },
    {
      "cell_type": "code",
      "metadata": {
        "id": "-S8ATfdNwiNZ",
        "colab": {
          "base_uri": "https://localhost:8080/"
        },
        "outputId": "072d7d29-f1e9-4b38-a3d1-016200ce65d6"
      },
      "source": [
        "#Dropping all the na values present in the training and testing set if any\n",
        "train.isna().values.any()\n",
        "train.dropna(inplace=True,axis=0)\n",
        "\n",
        "test.isna().values.any()\n",
        "test.dropna(inplace=True,axis=0)\n",
        "print(len(train))\n"
      ],
      "execution_count": null,
      "outputs": [
        {
          "output_type": "stream",
          "text": [
            "270912\n"
          ],
          "name": "stdout"
        }
      ]
    },
    {
      "cell_type": "code",
      "metadata": {
        "colab": {
          "base_uri": "https://localhost:8080/"
        },
        "id": "uKTgcodONl5-",
        "outputId": "06701ae1-11e8-4d08-f6bc-9d2b6e071a43"
      },
      "source": [
        "'''converting the train and testing question pairs to list of questions that will be passed on to the lstm models after data cleaning,\n",
        "preprocessing, and embedding it with different embedding models'''\n",
        "\n",
        "train_q1=pd.Series(train.question1.tolist())\n",
        "train_q2=pd.Series(train.question2.tolist())\n",
        "test_q1=pd.Series(test.question1.tolist())\n",
        "test_q2=pd.Series(test.question2.tolist())\n",
        "train_q1[:5]\n",
        "print(len(train_q1))"
      ],
      "execution_count": null,
      "outputs": [
        {
          "output_type": "stream",
          "text": [
            "270912\n"
          ],
          "name": "stdout"
        }
      ]
    },
    {
      "cell_type": "code",
      "metadata": {
        "id": "r1mKIZcFNrdb"
      },
      "source": [
        "def cleaning_text(q):\n",
        "    cleaned_text=[]\n",
        "    for text in q:\n",
        "        text = text.lower()\n",
        "\n",
        "        pattern = re.compile('http[s]?://(?:[a-zA-Z]|[0-9]|[$-_@.&+]|[!*\\(\\),]|(?:%[0-9a-fA-F][0-9a-fA-F]))+')\n",
        "        text = pattern.sub('', text)\n",
        "        text = re.sub(r\"i'm\", \"i am\", text)\n",
        "        text = re.sub(r\"he's\", \"he is\", text)\n",
        "        text = re.sub(r\"she's\", \"she is\", text)\n",
        "        text = re.sub(r\"that's\", \"that is\", text)        \n",
        "        text = re.sub(r\"what's\", \"what is\", text)\n",
        "        text = re.sub(r\"where's\", \"where is\", text) \n",
        "        text = re.sub(r\"\\'ll\", \" will\", text)  \n",
        "        text = re.sub(r\"\\'ve\", \" have\", text)  \n",
        "        text = re.sub(r\"\\'re\", \" are\", text)\n",
        "        text = re.sub(r\"\\'d\", \" would\", text)\n",
        "        text = re.sub(r\"\\'ve\", \" have\", text)\n",
        "        text = re.sub(r\"won't\", \"will not\", text)\n",
        "        text = re.sub(r\"don't\", \"do not\", text)\n",
        "        text = re.sub(r\"did't\", \"did not\", text)\n",
        "        text = re.sub(r\"can't\", \"can not\", text)\n",
        "        text = re.sub(r\"it's\", \"it is\", text)\n",
        "        text = re.sub(r\"couldn't\", \"could not\", text)\n",
        "        text = re.sub(r\"have't\", \"have not\", text)\n",
        "\n",
        "        text = re.sub(r\"[,.\\\"!@#$%^&*(){}?/;`~:<>+=-]\", \"\", text)\n",
        "        tokens = word_tokenize(text)\n",
        "        table = str.maketrans('', '', string.punctuation)\n",
        "        stripped = [w.translate(table) for w in tokens]\n",
        "        words = [word for word in stripped if word.isalpha()]\n",
        "        stop_words = set(stopwords.words(\"english\"))\n",
        "        stop_words.discard(\"not\")\n",
        "        words = [w for w in words if not w in stop_words]\n",
        "        words = ' '.join(words)\n",
        "        cleaned_text.append(words)\n",
        "    return cleaned_text\n"
      ],
      "execution_count": null,
      "outputs": []
    },
    {
      "cell_type": "code",
      "metadata": {
        "id": "KlDDRMnmUB9O"
      },
      "source": [
        "\n",
        "from nltk.tokenize import word_tokenize\n",
        "from nltk.stem.wordnet import WordNetLemmatizer\n",
        "wordnet = WordNetLemmatizer()\n",
        "\n",
        "def lemma(q1):\n",
        "    Lemmatized=[]\n",
        "    for sentences in q1:\n",
        "        tokens = word_tokenize(sentences)\n",
        "#         print(tokens)\n",
        "        # Lemmatization of words\n",
        "        \n",
        "        \n",
        "        lemmatized_output = ' '.join([wordnet.lemmatize(w,pos=\"v\") for w in tokens])\n",
        "        Lemmatized.append(lemmatized_output)\n",
        "    return Lemmatized"
      ],
      "execution_count": null,
      "outputs": []
    },
    {
      "cell_type": "code",
      "metadata": {
        "id": "1RLliN92UEUI"
      },
      "source": [
        "#storing the cleaned data\n",
        "cleaned_train_q1=cleaning_text(train_q1)\n",
        "cleaned_train_q2=cleaning_text(train_q2)\n",
        "cleaned_test_q1=cleaning_text(test_q1)\n",
        "cleaned_test_q2=cleaning_text(test_q2)\n",
        "\n"
      ],
      "execution_count": null,
      "outputs": []
    },
    {
      "cell_type": "code",
      "metadata": {
        "id": "wxXHQiodUS_k"
      },
      "source": [
        ""
      ],
      "execution_count": null,
      "outputs": []
    },
    {
      "cell_type": "code",
      "metadata": {
        "id": "it_lmxt_ZLtn"
      },
      "source": [
        "#storing the lemmatized question pairs:\n",
        "final_train_q1=lemma(cleaned_train_q1)\n",
        "final_train_q2=lemma(cleaned_train_q2)\n",
        "final_test_q1=lemma(cleaned_test_q1)\n",
        "final_test_q2=lemma(cleaned_test_q2)\n"
      ],
      "execution_count": null,
      "outputs": []
    },
    {
      "cell_type": "code",
      "metadata": {
        "colab": {
          "base_uri": "https://localhost:8080/"
        },
        "id": "dGUSeM5GIc3B",
        "outputId": "381258d7-c5f3-4734-a39f-08c69e4637a2"
      },
      "source": [
        "train_labels=train['is_duplicate'].values\n",
        "print(len(train_labels))\n",
        "test_labels=test['is_duplicate'].values\n",
        "print(len(test_labels))"
      ],
      "execution_count": null,
      "outputs": [
        {
          "output_type": "stream",
          "text": [
            "270912\n",
            "133436\n"
          ],
          "name": "stdout"
        }
      ]
    },
    {
      "cell_type": "code",
      "metadata": {
        "colab": {
          "base_uri": "https://localhost:8080/"
        },
        "id": "NhIU0Aazkgaw",
        "outputId": "233316e9-f8e5-40fd-ec46-6a0c8ca41ffd"
      },
      "source": [
        "print(len(final_train_q1),len(train_labels))"
      ],
      "execution_count": null,
      "outputs": [
        {
          "output_type": "stream",
          "text": [
            "270912 270912\n"
          ],
          "name": "stdout"
        }
      ]
    },
    {
      "cell_type": "code",
      "metadata": {
        "id": "roKVjJAYct2O",
        "colab": {
          "base_uri": "https://localhost:8080/"
        },
        "outputId": "22ccd343-e3f4-40c0-e3be-938f87a71859"
      },
      "source": [
        "max_seq_length=0\n",
        "for i in final_train_q1:\n",
        "  max_seq_length=len(i.split(' ')) if len(i.split(' '))>max_seq_length else max_seq_length\n",
        "print(max_seq_length)"
      ],
      "execution_count": null,
      "outputs": [
        {
          "output_type": "stream",
          "text": [
            "53\n"
          ],
          "name": "stdout"
        }
      ]
    },
    {
      "cell_type": "code",
      "metadata": {
        "id": "0kEwJWJTc-UJ"
      },
      "source": [
        "\n",
        "tokenizer = Tokenizer(num_words=200000)\n",
        "tokenizer.fit_on_texts(final_train_q1+final_train_q2)\n",
        "\n",
        "tr_q1 = tokenizer.texts_to_sequences(final_train_q1)\n",
        "tr_q1 = pad_sequences(tr_q1, maxlen =54, padding='post')\n",
        "\n",
        "# tokenizer.fit_on_texts(final_train_q2)\n",
        "tr_q2 = tokenizer.texts_to_sequences(final_train_q2)\n",
        "tr_q2 = pad_sequences(tr_q2, maxlen = 54, padding='post')\n",
        "\n",
        "tokenizer1 = Tokenizer(num_words=200000)\n",
        "tokenizer1.fit_on_texts(final_test_q1+final_test_q2)\n",
        "\n",
        "test_q1 = tokenizer.texts_to_sequences(final_test_q1)\n",
        "test_q1 = pad_sequences(test_q1, maxlen = 54, padding='post')\n",
        "\n",
        "test_q2 = tokenizer.texts_to_sequences(final_test_q2)\n",
        "test_q2 = pad_sequences(test_q2, maxlen = 54, padding='post')\n"
      ],
      "execution_count": null,
      "outputs": []
    },
    {
      "cell_type": "code",
      "metadata": {
        "id": "YA3uV4OTkHVu",
        "colab": {
          "base_uri": "https://localhost:8080/"
        },
        "outputId": "dc8d6092-51bf-4731-9215-e6743adfc4e0"
      },
      "source": [
        "total_words=tokenizer.word_index\n",
        "print(len(tr_q1),len(tr_q2),len(train_labels))"
      ],
      "execution_count": null,
      "outputs": [
        {
          "output_type": "stream",
          "text": [
            "270912 270912 270912\n"
          ],
          "name": "stdout"
        }
      ]
    },
    {
      "cell_type": "code",
      "metadata": {
        "id": "_Eiv1Nh_CzDa"
      },
      "source": [
        "from gensim.test.utils import datapath\n",
        "import os\n",
        "\n",
        "embedding_dim = 300\n",
        "word2vec_dir = \"//content//drive//MyDrive\"\n",
        "from gensim.models import KeyedVectors\n",
        "word2vec_model = KeyedVectors.load_word2vec_format(os.path.join(word2vec_dir,\"GoogleNews-vectors-negative300.bin\"), binary=True)\n",
        "\n",
        "\n",
        "embedding_matrix = np.zeros((len(total_words) + 1, embedding_dim))\n",
        "for word, i in total_words.items():\n",
        "    if word in word2vec_model: \n",
        "        embedding_vector = word2vec_model[word]\n",
        "        if embedding_vector is not None:\n",
        "          embedding_matrix[i] = embedding_vector\n"
      ],
      "execution_count": null,
      "outputs": []
    },
    {
      "cell_type": "code",
      "metadata": {
        "id": "bPN48D5uC09k"
      },
      "source": [
        "\n",
        "embedding_layer = Embedding(len(total_words) + 1,\n",
        "                            embedding_dim,\n",
        "                            weights=[embedding_matrix],\n",
        "                            input_length=54,\n",
        "                            trainable=False)\n"
      ],
      "execution_count": null,
      "outputs": []
    },
    {
      "cell_type": "code",
      "metadata": {
        "id": "1lEL7TkAuCil"
      },
      "source": [
        "\n",
        "gradient_clipping_norm = 1.25\n",
        "def exponent_neg_manhattan_distance(left, right):\n",
        "    ''' Helper function for the similarity estimate of the LSTMs outputs'''\n",
        "    return K.exp(-K.sum(K.abs(left-right), axis=1, keepdims=True))\n",
        "\n",
        "# The visible layer\n",
        "left_input = tf.keras.layers.Input(shape=(54,), dtype='int32')\n",
        "right_input = tf.keras.layers.Input(shape=(54,), dtype='int32')\n",
        "\n",
        "embedding_layer = tf.keras.layers.Embedding(input_dim = len(total_words)+1,\\\n",
        "                       output_dim = 300,weights = [embedding_matrix],\\\n",
        "                      input_length = 54)\n",
        "\n",
        "# Embedded version of the inputs\n",
        "encoded_left = embedding_layer(left_input)\n",
        "encoded_right = embedding_layer(right_input)\n",
        "\n",
        "# Since this is a siamese network, both sides share the same LSTM\n",
        "shared_lstm = LSTM(128,activation = 'tanh')\n",
        "\n",
        "left_output = shared_lstm(encoded_left)\n",
        "right_output = shared_lstm(encoded_right)\n",
        "\n",
        "# Calculates the distance as defined by the MaLSTM model\n",
        "malstm_distance = tf.keras.layers.Lambda(function=lambda x: exponent_neg_manhattan_distance(x[0], x[1]),output_shape=lambda x: (x[0][0], 1))([left_output, right_output])\n",
        "\n",
        "# Pack it all up into a model\n",
        "malstm = Model([left_input, right_input], [malstm_distance])\n",
        "\n",
        "\n",
        "malstm.compile(loss='mean_squared_error', optimizer='adam', metrics=['accuracy'])\n",
        "\n",
        "from keras.callbacks import ModelCheckpoint\n",
        "checkpoint = ModelCheckpoint('model-{epoch:03d}-{val_accuracy:03f}.h5', verbose=1, monitor='val_accuracy',save_best_only=True, mode='auto')"
      ],
      "execution_count": null,
      "outputs": []
    },
    {
      "cell_type": "code",
      "metadata": {
        "colab": {
          "base_uri": "https://localhost:8080/"
        },
        "id": "UeXfHrysM8Fu",
        "outputId": "28cbe308-01b6-4aaf-ba2b-2680df58688a"
      },
      "source": [
        "malstm_trained = malstm.fit([tr_q1, tr_q2], train_labels, batch_size=1000, epochs=10,validation_data=([test_q1,test_q2], test_labels), callbacks=[checkpoint], verbose=1)"
      ],
      "execution_count": null,
      "outputs": [
        {
          "output_type": "stream",
          "text": [
            "Epoch 1/10\n",
            "271/271 [==============================] - 83s 297ms/step - loss: 0.2823 - accuracy: 0.6202 - val_loss: 0.1806 - val_accuracy: 0.7462\n",
            "\n",
            "Epoch 00001: val_accuracy improved from -inf to 0.74623, saving model to model-001-0.746230.h5\n",
            "Epoch 2/10\n",
            "271/271 [==============================] - 80s 297ms/step - loss: 0.1638 - accuracy: 0.7722 - val_loss: 0.1639 - val_accuracy: 0.7729\n",
            "\n",
            "Epoch 00002: val_accuracy improved from 0.74623 to 0.77292, saving model to model-002-0.772917.h5\n",
            "Epoch 3/10\n",
            "271/271 [==============================] - 79s 293ms/step - loss: 0.1384 - accuracy: 0.8143 - val_loss: 0.1546 - val_accuracy: 0.7888\n",
            "\n",
            "Epoch 00003: val_accuracy improved from 0.77292 to 0.78881, saving model to model-003-0.788813.h5\n",
            "Epoch 4/10\n",
            "271/271 [==============================] - 80s 295ms/step - loss: 0.1262 - accuracy: 0.8347 - val_loss: 0.1558 - val_accuracy: 0.7851\n",
            "\n",
            "Epoch 00004: val_accuracy did not improve from 0.78881\n",
            "Epoch 5/10\n",
            "271/271 [==============================] - 79s 293ms/step - loss: 0.1186 - accuracy: 0.8474 - val_loss: 0.1497 - val_accuracy: 0.7971\n",
            "\n",
            "Epoch 00005: val_accuracy improved from 0.78881 to 0.79708, saving model to model-005-0.797079.h5\n",
            "Epoch 6/10\n",
            "271/271 [==============================] - 80s 295ms/step - loss: 0.1120 - accuracy: 0.8567 - val_loss: 0.1484 - val_accuracy: 0.7987\n",
            "\n",
            "Epoch 00006: val_accuracy improved from 0.79708 to 0.79872, saving model to model-006-0.798720.h5\n",
            "Epoch 7/10\n",
            "271/271 [==============================] - 79s 292ms/step - loss: 0.1069 - accuracy: 0.8649 - val_loss: 0.1463 - val_accuracy: 0.8028\n",
            "\n",
            "Epoch 00007: val_accuracy improved from 0.79872 to 0.80276, saving model to model-007-0.802759.h5\n",
            "Epoch 8/10\n",
            "271/271 [==============================] - 79s 292ms/step - loss: 0.1013 - accuracy: 0.8742 - val_loss: 0.1472 - val_accuracy: 0.8014\n",
            "\n",
            "Epoch 00008: val_accuracy did not improve from 0.80276\n",
            "Epoch 9/10\n",
            "271/271 [==============================] - 79s 293ms/step - loss: 0.0962 - accuracy: 0.8809 - val_loss: 0.1476 - val_accuracy: 0.8018\n",
            "\n",
            "Epoch 00009: val_accuracy did not improve from 0.80276\n",
            "Epoch 10/10\n",
            "271/271 [==============================] - 79s 292ms/step - loss: 0.0938 - accuracy: 0.8864 - val_loss: 0.1449 - val_accuracy: 0.8071\n",
            "\n",
            "Epoch 00010: val_accuracy improved from 0.80276 to 0.80706, saving model to model-010-0.807061.h5\n"
          ],
          "name": "stdout"
        }
      ]
    },
    {
      "cell_type": "code",
      "metadata": {
        "colab": {
          "base_uri": "https://localhost:8080/",
          "height": 545
        },
        "id": "XW4JsVYSNZMZ",
        "outputId": "a2b905f0-2fdf-4477-fb3b-c5c463d1c677"
      },
      "source": [
        "# Plot results\n",
        "\n",
        "acc = malstm_trained.history['accuracy']\n",
        "val_acc = malstm_trained.history['val_accuracy']\n",
        "loss = malstm_trained.history['loss']\n",
        "val_loss = malstm_trained.history['val_loss']\n",
        "\n",
        "epochs = range(1, len(acc)+1)\n",
        "\n",
        "plt.plot(epochs, acc, 'g', label='Training accuracy')\n",
        "plt.plot(epochs, val_acc, 'r', label='Validation accuracy')\n",
        "plt.title('Training and validation accuracy')\n",
        "plt.legend()\n",
        "\n",
        "plt.figure()\n",
        "\n",
        "plt.plot(epochs, loss, 'g', label='Training loss')\n",
        "plt.plot(epochs, val_loss, 'r', label='Validation loss')\n",
        "plt.title('Training and validation loss')\n",
        "plt.legend()\n",
        "\n",
        "plt.show()"
      ],
      "execution_count": null,
      "outputs": [
        {
          "output_type": "display_data",
          "data": {
            "image/png": "[encoded data removed]",
            "text/plain": [
              "<Figure size 432x288 with 1 Axes>"
            ]
          },
          "metadata": {
            "tags": [],
            "needs_background": "light"
          }
        },
        {
          "output_type": "display_data",
          "data": {
            "image/png": "[encoded data removed]",
            "text/plain": [
              "<Figure size 432x288 with 1 Axes>"
            ]
          },
          "metadata": {
            "tags": [],
            "needs_background": "light"
          }
        }
      ]
    },
    {
      "cell_type": "code",
      "metadata": {
        "id": "RXtfR_w5uGDB"
      },
      "source": [
        ""
      ],
      "execution_count": null,
      "outputs": []
    },
    {
      "cell_type": "code",
      "metadata": {
        "id": "vvT_jWwBuIsQ"
      },
      "source": [
        "model1=tf.keras.models.load_model('/content/model-010-0.807061.h5')"
      ],
      "execution_count": null,
      "outputs": []
    },
    {
      "cell_type": "code",
      "metadata": {
        "colab": {
          "base_uri": "https://localhost:8080/"
        },
        "id": "kNkZQeAmuJsE",
        "outputId": "6a1f6763-a23f-4402-ed13-7b3f47ff05f3"
      },
      "source": [
        "y_pred = model1.evaluate([test_q1,test_q2],test_labels, batch_size=1000, verbose=1)"
      ],
      "execution_count": null,
      "outputs": [
        {
          "output_type": "stream",
          "text": [
            "134/134 [==============================] - 7s 46ms/step - loss: 0.1449 - accuracy: 0.8071\n"
          ],
          "name": "stdout"
        }
      ]
    },
    {
      "cell_type": "code",
      "metadata": {
        "id": "5wU7r1ASDSpM"
      },
      "source": [
        ""
      ],
      "execution_count": null,
      "outputs": []
    }
  ]
}
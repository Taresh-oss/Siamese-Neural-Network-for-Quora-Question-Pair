{
  "nbformat": 4,
  "nbformat_minor": 0,
  "metadata": {
    "colab": {
      "name": "Siamese+Glove(LSTM+attention).ipynb",
      "provenance": [],
      "collapsed_sections": []
    },
    "kernelspec": {
      "name": "python3",
      "display_name": "Python 3"
    },
    "accelerator": "GPU"
  },
  "cells": [
    {
      "cell_type": "code",
      "metadata": {
        "id": "UeErpzjPgRHq",
        "colab": {
          "base_uri": "https://localhost:8080/"
        },
        "outputId": "b05f3453-d6e0-427a-ed47-ed8dd95f7cd3"
      },
      "source": [
        "#Importing all the packages for the required functionalities\n",
        "\n",
        "import warnings\n",
        "warnings.filterwarnings('ignore')\n",
        "#importing numpy library\n",
        "import numpy as np\n",
        "#importing pandas library\n",
        "import pandas as pd\n",
        "#importing seaborn library\n",
        "import seaborn as sns\n",
        "#imorting matplotlib library\n",
        "import matplotlib.pyplot as plt\n",
        "#Importing Library for train test split\n",
        "from sklearn.model_selection import train_test_split\n",
        "from string import punctuation\n",
        "import re\n",
        "import nltk\n",
        "nltk.download('punkt')\n",
        "nltk.download('stopwords')\n",
        "nltk.download('wordnet')\n",
        "import string\n",
        "from nltk.tokenize import word_tokenize\n",
        "from nltk.corpus import stopwords\n",
        "from keras.preprocessing.text import Tokenizer\n",
        "from keras.preprocessing.sequence import pad_sequences\n",
        "from keras.layers import Embedding\n",
        "import tensorflow as tf\n",
        "from tensorflow import keras\n",
        "from tensorflow.keras.layers import BatchNormalization,Dropout,Dense,Multiply,Flatten\n",
        "from tensorflow.keras.layers import LSTM\n",
        "import matplotlib.pyplot as plt"
      ],
      "execution_count": null,
      "outputs": [
        {
          "output_type": "stream",
          "text": [
            "[nltk_data] Downloading package punkt to /root/nltk_data...\n",
            "[nltk_data]   Unzipping tokenizers/punkt.zip.\n",
            "[nltk_data] Downloading package stopwords to /root/nltk_data...\n",
            "[nltk_data]   Unzipping corpora/stopwords.zip.\n",
            "[nltk_data] Downloading package wordnet to /root/nltk_data...\n",
            "[nltk_data]   Unzipping corpora/wordnet.zip.\n"
          ],
          "name": "stdout"
        }
      ]
    },
    {
      "cell_type": "code",
      "metadata": {
        "colab": {
          "base_uri": "https://localhost:8080/"
        },
        "id": "eYrXI4c_gk02",
        "outputId": "6c90ca19-6dd6-44ac-dd93-b7351f1a5403"
      },
      "source": [
        "#Mounting the drive to import the dataset, and the word embedding files\n",
        "from google.colab import drive\n",
        "drive.mount('/content/drive')"
      ],
      "execution_count": null,
      "outputs": [
        {
          "output_type": "stream",
          "text": [
            "Mounted at /content/drive\n"
          ],
          "name": "stdout"
        }
      ]
    },
    {
      "cell_type": "code",
      "metadata": {
        "id": "smJa1cLYgW80",
        "colab": {
          "base_uri": "https://localhost:8080/"
        },
        "outputId": "f032a300-aae7-4bc7-8795-ea9ea796e870"
      },
      "source": [
        "#Reading csv file of Question Pair Dataset Available publically\n",
        "Quora_questions = pd.read_csv(\"//content//drive//MyDrive//questions.csv\")\n",
        "print(\"Number of data points:\",Quora_questions.shape[0])"
      ],
      "execution_count": null,
      "outputs": [
        {
          "output_type": "stream",
          "text": [
            "Number of data points: 404351\n"
          ],
          "name": "stdout"
        }
      ]
    },
    {
      "cell_type": "code",
      "metadata": {
        "colab": {
          "base_uri": "https://localhost:8080/",
          "height": 195
        },
        "id": "JLMU1CTSuhVC",
        "outputId": "45d19946-61b7-42d7-f154-f3be0d4e7178"
      },
      "source": [
        "#Splitting the dataset \n",
        "train,test = train_test_split(Quora_questions, test_size=0.33, random_state=42)\n",
        "train.head()"
      ],
      "execution_count": null,
      "outputs": [
        {
          "output_type": "execute_result",
          "data": {
            "text/html": [
              "<div>\n",
              "<style scoped>\n",
              "    .dataframe tbody tr th:only-of-type {\n",
              "        vertical-align: middle;\n",
              "    }\n",
              "\n",
              "    .dataframe tbody tr th {\n",
              "        vertical-align: top;\n",
              "    }\n",
              "\n",
              "    .dataframe thead th {\n",
              "        text-align: right;\n",
              "    }\n",
              "</style>\n",
              "<table border=\"1\" class=\"dataframe\">\n",
              "  <thead>\n",
              "    <tr style=\"text-align: right;\">\n",
              "      <th></th>\n",
              "      <th>id</th>\n",
              "      <th>qid1</th>\n",
              "      <th>qid2</th>\n",
              "      <th>question1</th>\n",
              "      <th>question2</th>\n",
              "      <th>is_duplicate</th>\n",
              "    </tr>\n",
              "  </thead>\n",
              "  <tbody>\n",
              "    <tr>\n",
              "      <th>181139</th>\n",
              "      <td>181139</td>\n",
              "      <td>357761</td>\n",
              "      <td>357762</td>\n",
              "      <td>What is the most interesting Road Trip Story y...</td>\n",
              "      <td>What are the best road trip songs?</td>\n",
              "      <td>0</td>\n",
              "    </tr>\n",
              "    <tr>\n",
              "      <th>284223</th>\n",
              "      <td>284223</td>\n",
              "      <td>558625</td>\n",
              "      <td>558626</td>\n",
              "      <td>How do I install a custom Rom in Spice mettle ...</td>\n",
              "      <td>How do I install a custom ROM in my rooted phone?</td>\n",
              "      <td>0</td>\n",
              "    </tr>\n",
              "    <tr>\n",
              "      <th>314840</th>\n",
              "      <td>314840</td>\n",
              "      <td>617874</td>\n",
              "      <td>617875</td>\n",
              "      <td>Has sugar hill gang's rapper's delight ever be...</td>\n",
              "      <td>What is the translation of the word \"by\" to Fr...</td>\n",
              "      <td>0</td>\n",
              "    </tr>\n",
              "    <tr>\n",
              "      <th>337099</th>\n",
              "      <td>337099</td>\n",
              "      <td>660891</td>\n",
              "      <td>660892</td>\n",
              "      <td>How do I study math?</td>\n",
              "      <td>How should I study math?</td>\n",
              "      <td>1</td>\n",
              "    </tr>\n",
              "    <tr>\n",
              "      <th>84444</th>\n",
              "      <td>84444</td>\n",
              "      <td>167712</td>\n",
              "      <td>167713</td>\n",
              "      <td>Which mobile development companies are based i...</td>\n",
              "      <td>Top mobile app companies in Miami Florida?</td>\n",
              "      <td>1</td>\n",
              "    </tr>\n",
              "  </tbody>\n",
              "</table>\n",
              "</div>"
            ],
            "text/plain": [
              "            id  ...  is_duplicate\n",
              "181139  181139  ...             0\n",
              "284223  284223  ...             0\n",
              "314840  314840  ...             0\n",
              "337099  337099  ...             1\n",
              "84444    84444  ...             1\n",
              "\n",
              "[5 rows x 6 columns]"
            ]
          },
          "metadata": {
            "tags": []
          },
          "execution_count": 4
        }
      ]
    },
    {
      "cell_type": "code",
      "metadata": {
        "colab": {
          "base_uri": "https://localhost:8080/"
        },
        "id": "e4tkbKv4wPzw",
        "outputId": "ac3dd2ac-f1e1-478e-ff35-82e07c68cb22"
      },
      "source": [
        "#Getting to  know the information regarding the dataset\n",
        "Quora_questions.info()"
      ],
      "execution_count": null,
      "outputs": [
        {
          "output_type": "stream",
          "text": [
            "<class 'pandas.core.frame.DataFrame'>\n",
            "RangeIndex: 404351 entries, 0 to 404350\n",
            "Data columns (total 6 columns):\n",
            " #   Column        Non-Null Count   Dtype \n",
            "---  ------        --------------   ----- \n",
            " 0   id            404351 non-null  int64 \n",
            " 1   qid1          404351 non-null  int64 \n",
            " 2   qid2          404351 non-null  int64 \n",
            " 3   question1     404350 non-null  object\n",
            " 4   question2     404349 non-null  object\n",
            " 5   is_duplicate  404351 non-null  int64 \n",
            "dtypes: int64(4), object(2)\n",
            "memory usage: 18.5+ MB\n"
          ],
          "name": "stdout"
        }
      ]
    },
    {
      "cell_type": "code",
      "metadata": {
        "colab": {
          "base_uri": "https://localhost:8080/",
          "height": 279
        },
        "id": "z6UEeKQBwd0Y",
        "outputId": "ee01cc8a-652f-44b8-f858-2e3fe3786da9"
      },
      "source": [
        "#check the total questions that are duplicate as per is_dupliacte column and other way round. For TRAINING SET\n",
        "train['is_duplicate'].value_counts().plot.bar()"
      ],
      "execution_count": null,
      "outputs": [
        {
          "output_type": "execute_result",
          "data": {
            "text/plain": [
              "array([0, 0, 0, ..., 0, 0, 0])"
            ]
          },
          "metadata": {
            "tags": []
          },
          "execution_count": 6
        },
        {
          "output_type": "display_data",
          "data": {
            "image/png": "[encoded data removed]",
            "text/plain": [
              "<Figure size 432x288 with 1 Axes>"
            ]
          },
          "metadata": {
            "tags": [],
            "needs_background": "light"
          }
        }
      ]
    },
    {
      "cell_type": "code",
      "metadata": {
        "colab": {
          "base_uri": "https://localhost:8080/",
          "height": 279
        },
        "id": "x3bIUruxwgkb",
        "outputId": "680abbef-0acb-4c35-8ad0-a5dba5627040"
      },
      "source": [
        "#check the total questions that are duplicate as per is_dupliacte column and other way round. For TESTING SET\n",
        "test['is_duplicate'].value_counts().plot.bar()"
      ],
      "execution_count": null,
      "outputs": [
        {
          "output_type": "execute_result",
          "data": {
            "text/plain": [
              "<matplotlib.axes._subplots.AxesSubplot at 0x7fe669e7f390>"
            ]
          },
          "metadata": {
            "tags": []
          },
          "execution_count": 7
        },
        {
          "output_type": "display_data",
          "data": {
            "image/png": "[encoded data removed]",
            "text/plain": [
              "<Figure size 432x288 with 1 Axes>"
            ]
          },
          "metadata": {
            "tags": [],
            "needs_background": "light"
          }
        }
      ]
    },
    {
      "cell_type": "code",
      "metadata": {
        "id": "-S8ATfdNwiNZ",
        "colab": {
          "base_uri": "https://localhost:8080/"
        },
        "outputId": "4b53fd37-9be1-4fe0-9a0b-7719b309bdb3"
      },
      "source": [
        "#Dropping all the na values present in the training and testing set if any\n",
        "train.isna().values.any()\n",
        "train.dropna(inplace=True,axis=0)\n",
        "\n",
        "test.isna().values.any()\n",
        "test.dropna(inplace=True,axis=0)\n",
        "print(len(train))"
      ],
      "execution_count": null,
      "outputs": [
        {
          "output_type": "stream",
          "text": [
            "270912\n"
          ],
          "name": "stdout"
        }
      ]
    },
    {
      "cell_type": "code",
      "metadata": {
        "colab": {
          "base_uri": "https://localhost:8080/"
        },
        "id": "uKTgcodONl5-",
        "outputId": "d4366388-d0b9-4357-aafa-4273ebe3c2c3"
      },
      "source": [
        "'''converting the train and testing question pairs to list of questions that will be passed on to the lstm models after data cleaning,\n",
        "preprocessing, and embedding it with different embedding models'''\n",
        "\n",
        "train_q1=pd.Series(train.question1.tolist())\n",
        "train_q2=pd.Series(train.question2.tolist())\n",
        "test_q1=pd.Series(test.question1.tolist())\n",
        "test_q2=pd.Series(test.question2.tolist())\n",
        "train_q1[:5]\n",
        "print(len(train_q1))"
      ],
      "execution_count": null,
      "outputs": [
        {
          "output_type": "stream",
          "text": [
            "270912\n"
          ],
          "name": "stdout"
        }
      ]
    },
    {
      "cell_type": "code",
      "metadata": {
        "id": "r1mKIZcFNrdb"
      },
      "source": [
        "'''Function that basically performs the cleaning steps using the regex expressions namely lowering the case, substituting short forms to their base meaningful forms, removing\n",
        "the special symbols,and removal of stopwords.'''\n",
        "\n",
        "def cleaning_text(q):\n",
        "    cleaned_text=[]\n",
        "    for text in q:\n",
        "        text = text.lower()\n",
        "\n",
        "        pattern = re.compile('http[s]?://(?:[a-zA-Z]|[0-9]|[$-_@.&+]|[!*\\(\\),]|(?:%[0-9a-fA-F][0-9a-fA-F]))+')\n",
        "        text = pattern.sub('', text)\n",
        "        text = re.sub(r\"i'm\", \"i am\", text)\n",
        "        text = re.sub(r\"he's\", \"he is\", text)\n",
        "        text = re.sub(r\"she's\", \"she is\", text)\n",
        "        text = re.sub(r\"that's\", \"that is\", text)        \n",
        "        text = re.sub(r\"what's\", \"what is\", text)\n",
        "        text = re.sub(r\"where's\", \"where is\", text) \n",
        "        text = re.sub(r\"\\'ll\", \" will\", text)  \n",
        "        text = re.sub(r\"\\'ve\", \" have\", text)  \n",
        "        text = re.sub(r\"\\'re\", \" are\", text)\n",
        "        text = re.sub(r\"\\'d\", \" would\", text)\n",
        "        text = re.sub(r\"\\'ve\", \" have\", text)\n",
        "        text = re.sub(r\"won't\", \"will not\", text)\n",
        "        text = re.sub(r\"don't\", \"do not\", text)\n",
        "        text = re.sub(r\"did't\", \"did not\", text)\n",
        "        text = re.sub(r\"can't\", \"can not\", text)\n",
        "        text = re.sub(r\"it's\", \"it is\", text)\n",
        "        text = re.sub(r\"couldn't\", \"could not\", text)\n",
        "        text = re.sub(r\"have't\", \"have not\", text)\n",
        "\n",
        "        text = re.sub(r\"[,.\\\"!@#$%^&*(){}?/;`~:<>+=-]\", \"\", text)\n",
        "        tokens = word_tokenize(text)\n",
        "        table = str.maketrans('', '', string.punctuation)\n",
        "        stripped = [w.translate(table) for w in tokens]\n",
        "        words = [word for word in stripped if word.isalpha()]\n",
        "        stop_words = set(stopwords.words(\"english\"))\n",
        "        stop_words.discard(\"not\")\n",
        "        words = [w for w in words if not w in stop_words]\n",
        "        words = ' '.join(words)\n",
        "        cleaned_text.append(words)\n",
        "    return cleaned_text\n"
      ],
      "execution_count": null,
      "outputs": []
    },
    {
      "cell_type": "code",
      "metadata": {
        "id": "KlDDRMnmUB9O"
      },
      "source": [
        "''' defining the lemmatization function that will return the lemmatized string'''\n",
        "from nltk.tokenize import word_tokenize\n",
        "from nltk.stem.wordnet import WordNetLemmatizer\n",
        "wordnet = WordNetLemmatizer()\n",
        "\n",
        "def lemma(q1):\n",
        "    Lemmatized=[]\n",
        "    for sentences in q1:\n",
        "        tokens = word_tokenize(sentences)\n",
        "#         print(tokens)\n",
        "        # Lemmatization of words\n",
        "        \n",
        "        \n",
        "        lemmatized_output = ' '.join([wordnet.lemmatize(w,pos='v') for w in tokens])\n",
        "        Lemmatized.append(lemmatized_output)\n",
        "    return Lemmatized"
      ],
      "execution_count": null,
      "outputs": []
    },
    {
      "cell_type": "code",
      "metadata": {
        "id": "1RLliN92UEUI"
      },
      "source": [
        "#storing the cleaned data\n",
        "cleaned_train_q1=cleaning_text(train_q1)\n",
        "cleaned_train_q2=cleaning_text(train_q2)\n",
        "cleaned_test_q1=cleaning_text(test_q1)\n",
        "cleaned_test_q2=cleaning_text(test_q2)"
      ],
      "execution_count": null,
      "outputs": []
    },
    {
      "cell_type": "code",
      "metadata": {
        "id": "it_lmxt_ZLtn"
      },
      "source": [
        "#storing the lemmatized question pairs:\n",
        "final_train_q1=lemma(cleaned_train_q1)\n",
        "final_train_q2=lemma(cleaned_train_q2)\n",
        "final_test_q1=lemma(cleaned_test_q1)\n",
        "final_test_q2=lemma(cleaned_test_q2)"
      ],
      "execution_count": null,
      "outputs": []
    },
    {
      "cell_type": "code",
      "metadata": {
        "colab": {
          "base_uri": "https://localhost:8080/"
        },
        "id": "dGUSeM5GIc3B",
        "outputId": "6a351042-2811-4842-fbae-177e8354ee39"
      },
      "source": [
        "'''storing all the labels for training and testing set'''\n",
        "train_labels=train['is_duplicate'].values\n",
        "test_labels=test['is_duplicate'].values"
      ],
      "execution_count": null,
      "outputs": [
        {
          "output_type": "stream",
          "text": [
            "270912\n",
            "133436\n"
          ],
          "name": "stdout"
        }
      ]
    },
    {
      "cell_type": "code",
      "metadata": {
        "id": "roKVjJAYct2O",
        "colab": {
          "base_uri": "https://localhost:8080/"
        },
        "outputId": "8e3aeef8-6875-4b5a-c8fc-ef63846f6fcb"
      },
      "source": [
        "'''calculating the maximum length of questions after padding'''\n",
        "max_seq_length=0\n",
        "for i in final_train_q1:\n",
        "  max_seq_length=len(i.split(' ')) if len(i.split(' '))>max_seq_length else max_seq_length\n",
        "print(max_seq_length)"
      ],
      "execution_count": null,
      "outputs": [
        {
          "output_type": "stream",
          "text": [
            "53\n"
          ],
          "name": "stdout"
        }
      ]
    },
    {
      "cell_type": "code",
      "metadata": {
        "id": "0kEwJWJTc-UJ"
      },
      "source": [
        "#Using the keras tokenizer module to tokenize the lemmatized sequences and pad them accordingly\n",
        "tokenizer = Tokenizer(num_words=200000)\n",
        "tokenizer.fit_on_texts(final_train_q1+final_train_q2)\n",
        "\n",
        "tr_q1 = tokenizer.texts_to_sequences(final_train_q1)\n",
        "tr_q1 = pad_sequences(tr_q1, maxlen =54, padding='post')\n",
        "\n",
        "# tokenizer.fit_on_texts(final_train_q2)\n",
        "tr_q2 = tokenizer.texts_to_sequences(final_train_q2)\n",
        "tr_q2 = pad_sequences(tr_q2, maxlen = 54, padding='post')\n",
        "\n",
        "\n",
        "test_q1 = tokenizer.texts_to_sequences(final_test_q1)\n",
        "test_q1 = pad_sequences(test_q1, maxlen = 54, padding='post')\n",
        "\n",
        "test_q2 = tokenizer.texts_to_sequences(final_test_q2)\n",
        "test_q2 = pad_sequences(test_q2, maxlen = 54, padding='post')\n"
      ],
      "execution_count": null,
      "outputs": []
    },
    {
      "cell_type": "code",
      "metadata": {
        "id": "YA3uV4OTkHVu",
        "colab": {
          "base_uri": "https://localhost:8080/"
        },
        "outputId": "6b837544-773e-4f63-b342-561e19d4a609"
      },
      "source": [
        "#calculating the total words in the vocabulary\n",
        "total_words=tokenizer.word_index"
      ],
      "execution_count": null,
      "outputs": [
        {
          "output_type": "stream",
          "text": [
            "270912 270912 270912\n"
          ],
          "name": "stdout"
        }
      ]
    },
    {
      "cell_type": "markdown",
      "metadata": {
        "id": "GJZa2tNat9cC"
      },
      "source": [
        "### **Importing the Glove pretrained model and embedding the Question Sequences**"
      ]
    },
    {
      "cell_type": "code",
      "metadata": {
        "id": "_Eiv1Nh_CzDa"
      },
      "source": [
        "embedding_index = {}\n",
        "with open('//content//drive//MyDrive//glove.6B.200d.txt','r',encoding=\"utf8\") as f:\n",
        "    for line in f:\n",
        "        values = line.split()\n",
        "        word = values[0]\n",
        "        vectors = np.asarray(values[1:], 'float32')\n",
        "        embedding_index[word] = vectors\n",
        "    f.close()"
      ],
      "execution_count": null,
      "outputs": []
    },
    {
      "cell_type": "code",
      "metadata": {
        "id": "bPN48D5uC09k"
      },
      "source": [
        "embedding_matrix = np.random.random((len(total_words)+1, 200))\n",
        "for word, i in total_words.items():\n",
        "    embedding_vector = embedding_index.get(word)\n",
        "    if embedding_vector is not None:\n",
        "        embedding_matrix[i] = embedding_vector"
      ],
      "execution_count": null,
      "outputs": []
    },
    {
      "cell_type": "code",
      "metadata": {
        "id": "2GU93zsJ-ivZ"
      },
      "source": [
        "#Deifintion of the attention class to update the weights and bias for the attention layer\n",
        "from keras.layers import Layer\n",
        "import keras.backend as K\n",
        "class attention(Layer):\n",
        "    def __init__(self,**kwargs):\n",
        "      super(attention,self).__init__(**kwargs)\n",
        "\n",
        "    def build(self,input_shape):\n",
        "      print(input_shape)\n",
        "      self.W=self.add_weight(name=\"att_weight\",shape=(input_shape[-1],1),initializer=\"normal\")\n",
        "      self.b=self.add_weight(name=\"att_bias\",shape=(input_shape[1],1),initializer=\"zeros\")        \n",
        "      super(attention, self).build(input_shape)\n",
        "\n",
        "    def call(self,x):\n",
        "      et=K.squeeze(K.tanh(K.dot(x,self.W)+self.b),axis=-1)\n",
        "      at=K.softmax(et)\n",
        "      at=K.expand_dims(at,axis=-1)\n",
        "      output=x*at\n",
        "      return K.sum(output,axis=1)\n",
        "\n",
        "    def compute_output_shape(self,input_shape):\n",
        "      return (input_shape[0],input_shape[-1])\n",
        "\n",
        "    def get_config(self):\n",
        "      return super(attention,self).get_config()"
      ],
      "execution_count": null,
      "outputs": []
    },
    {
      "cell_type": "code",
      "metadata": {
        "id": "B4ofNnauuObJ"
      },
      "source": [
        "#Defining the Manhattan distance function\n",
        "def exponent_neg_manhattan_distance(left, right):\n",
        "    ''' Helper function for the similarity estimate of the LSTMs outputs'''\n",
        "    return K.exp(-K.sum(K.abs(left-right), axis=1, keepdims=True))"
      ],
      "execution_count": null,
      "outputs": []
    },
    {
      "cell_type": "code",
      "metadata": {
        "colab": {
          "base_uri": "https://localhost:8080/"
        },
        "id": "obpTC8Zp6i_Q",
        "outputId": "4fdd3e11-2508-4b4f-bc4b-09f899d0efaf"
      },
      "source": [
        "# Model structure for both the input questions\n",
        "left_input_att = tf.keras.layers.Input(shape=(54,), dtype='int32')\n",
        "right_input_att = tf.keras.layers.Input(shape=(54,), dtype='int32')\n",
        "\n",
        "embedding_layer_att = tf.keras.layers.Embedding(input_dim = len(total_words)+1,\\\n",
        "                       output_dim = 200,weights = [embedding_matrix],\\\n",
        "                      input_length = 54)\n",
        "\n",
        "# Embedded version of the inputs\n",
        "encoded_left_att = embedding_layer_att(left_input_att)\n",
        "encoded_right_att = embedding_layer_att(right_input_att)\n",
        "\n",
        "# Since this is a siamese network, both sides share the same LSTM\n",
        "shared_lstm_att_in=LSTM(128,return_sequences=True)\n",
        "\n",
        "left_output_att = attention()(shared_lstm_att_in(encoded_left_att))\n",
        "right_output_att = attention()(shared_lstm_att_in(encoded_right_att))\n",
        "\n",
        "\n",
        "# merged = Multiply()([left_output_att, right_output_att])\n",
        "\n",
        "# merged = Flatten()(merged)\n",
        "# merged = Dense(100, activation = 'relu')(merged)\n",
        "# merged = Dropout(0.2)(merged)\n",
        "# merged = Dense(50, activation = 'relu')(merged)\n",
        "# merged = Dropout(0.2)(merged)\n",
        "# merged = Dense(2, activation = 'sigmoid')(merged)\n",
        "# Calculates the distance as defined by the MaLSTM model\n",
        "\n",
        "malstm_distance_att = tf.keras.layers.Lambda(function=lambda x: exponent_neg_manhattan_distance(x[0], x[1]),output_shape=lambda x: (x[0][0], 1))([left_output_att, right_output_att])\n",
        "\n",
        "# # # Pack it all up into a model\n",
        "malstm_att = Model([left_input_att, right_input_att],[malstm_distance_att])\n",
        "\n",
        "malstm_att.compile(loss='mean_squared_error', optimizer='adam', metrics=['accuracy'])\n",
        "# malstm_att.summary()\n",
        "\n",
        "from keras.callbacks import ModelCheckpoint\n",
        "checkpoint = ModelCheckpoint('model-{epoch:03d}-{val_accuracy:03f}.h5', verbose=1, monitor='val_accuracy',save_best_only=True, mode='auto')\n",
        "\n",
        "malstm_trained_att = malstm_att.fit([tr_q1, tr_q2], train_labels, batch_size=1000, epochs=10,validation_data=([test_q1,test_q2], test_labels), callbacks=[checkpoint], verbose=1)"
      ],
      "execution_count": null,
      "outputs": [
        {
          "output_type": "stream",
          "text": [
            "(None, 54, 128)\n",
            "(None, 54, 128)\n",
            "Epoch 1/10\n",
            "271/271 [==============================] - 98s 236ms/step - loss: 0.1855 - accuracy: 0.7102 - val_loss: 0.1549 - val_accuracy: 0.7814\n",
            "\n",
            "Epoch 00001: val_accuracy improved from -inf to 0.78139, saving model to model-001-0.781386.h5\n",
            "Epoch 2/10\n",
            "271/271 [==============================] - 62s 231ms/step - loss: 0.1408 - accuracy: 0.8040 - val_loss: 0.1399 - val_accuracy: 0.8034\n",
            "\n",
            "Epoch 00002: val_accuracy improved from 0.78139 to 0.80337, saving model to model-002-0.803366.h5\n",
            "Epoch 3/10\n",
            "271/271 [==============================] - 62s 230ms/step - loss: 0.1211 - accuracy: 0.8362 - val_loss: 0.1356 - val_accuracy: 0.8111\n",
            "\n",
            "Epoch 00003: val_accuracy improved from 0.80337 to 0.81115, saving model to model-003-0.811145.h5\n",
            "Epoch 4/10\n",
            "271/271 [==============================] - 62s 230ms/step - loss: 0.1083 - accuracy: 0.8560 - val_loss: 0.1331 - val_accuracy: 0.8154\n",
            "\n",
            "Epoch 00004: val_accuracy improved from 0.81115 to 0.81542, saving model to model-004-0.815425.h5\n",
            "Epoch 5/10\n",
            "271/271 [==============================] - 62s 230ms/step - loss: 0.0993 - accuracy: 0.8718 - val_loss: 0.1327 - val_accuracy: 0.8169\n",
            "\n",
            "Epoch 00005: val_accuracy improved from 0.81542 to 0.81687, saving model to model-005-0.816871.h5\n",
            "Epoch 6/10\n",
            "271/271 [==============================] - 62s 227ms/step - loss: 0.0933 - accuracy: 0.8807 - val_loss: 0.1329 - val_accuracy: 0.8178\n",
            "\n",
            "Epoch 00006: val_accuracy improved from 0.81687 to 0.81778, saving model to model-006-0.817778.h5\n",
            "Epoch 7/10\n",
            "271/271 [==============================] - 62s 229ms/step - loss: 0.0868 - accuracy: 0.8916 - val_loss: 0.1311 - val_accuracy: 0.8202\n",
            "\n",
            "Epoch 00007: val_accuracy improved from 0.81778 to 0.82015, saving model to model-007-0.820153.h5\n",
            "Epoch 8/10\n",
            "271/271 [==============================] - 62s 227ms/step - loss: 0.0829 - accuracy: 0.8976 - val_loss: 0.1314 - val_accuracy: 0.8195\n",
            "\n",
            "Epoch 00008: val_accuracy did not improve from 0.82015\n",
            "Epoch 9/10\n",
            "271/271 [==============================] - 62s 229ms/step - loss: 0.0782 - accuracy: 0.9056 - val_loss: 0.1311 - val_accuracy: 0.8217\n",
            "\n",
            "Epoch 00009: val_accuracy improved from 0.82015 to 0.82169, saving model to model-009-0.821690.h5\n",
            "Epoch 10/10\n",
            "271/271 [==============================] - 61s 227ms/step - loss: 0.0754 - accuracy: 0.9094 - val_loss: 0.1298 - val_accuracy: 0.8234\n",
            "\n",
            "Epoch 00010: val_accuracy improved from 0.82169 to 0.82337, saving model to model-010-0.823368.h5\n"
          ],
          "name": "stdout"
        }
      ]
    },
    {
      "cell_type": "code",
      "metadata": {
        "colab": {
          "base_uri": "https://localhost:8080/",
          "height": 545
        },
        "id": "RcoatWGx3T66",
        "outputId": "df9405ed-6adb-417b-a605-c757fbcf41b4"
      },
      "source": [
        "# Plot results\n",
        "\n",
        "acc = malstm_trained_att.history['accuracy']\n",
        "val_acc = malstm_trained_att.history['val_accuracy']\n",
        "loss = malstm_trained_att.history['loss']\n",
        "val_loss = malstm_trained_att.history['val_loss']\n",
        "\n",
        "epochs = range(1, len(acc)+1)\n",
        "\n",
        "plt.plot(epochs, acc, 'g', label='Training accuracy')\n",
        "plt.plot(epochs, val_acc, 'r', label='Validation accuracy')\n",
        "plt.title('Training and validation accuracy')\n",
        "plt.legend()\n",
        "\n",
        "plt.figure()\n",
        "\n",
        "plt.plot(epochs, loss, 'g', label='Training loss')\n",
        "plt.plot(epochs, val_loss, 'r', label='Validation loss')\n",
        "plt.title('Training and validation loss')\n",
        "plt.legend()\n",
        "\n",
        "plt.show()"
      ],
      "execution_count": null,
      "outputs": [
        {
          "output_type": "display_data",
          "data": {
            "image/png": "[encoded data removed]",
            "text/plain": [
              "<Figure size 432x288 with 1 Axes>"
            ]
          },
          "metadata": {
            "tags": [],
            "needs_background": "light"
          }
        },
        {
          "output_type": "display_data",
          "data": {
            "image/png": "[encoded data removed]",
            "text/plain": [
              "<Figure size 432x288 with 1 Axes>"
            ]
          },
          "metadata": {
            "tags": [],
            "needs_background": "light"
          }
        }
      ]
    },
    {
      "cell_type": "code",
      "metadata": {
        "colab": {
          "base_uri": "https://localhost:8080/"
        },
        "id": "st9WmgVyYm7c",
        "outputId": "295cc803-1859-4714-d3ca-870b1fb13a44"
      },
      "source": [
        "malstm_att.summary()"
      ],
      "execution_count": null,
      "outputs": [
        {
          "output_type": "stream",
          "text": [
            "Model: \"model\"\n",
            "__________________________________________________________________________________________________\n",
            "Layer (type)                    Output Shape         Param #     Connected to                     \n",
            "==================================================================================================\n",
            "input_1 (InputLayer)            [(None, 54)]         0                                            \n",
            "__________________________________________________________________________________________________\n",
            "input_2 (InputLayer)            [(None, 54)]         0                                            \n",
            "__________________________________________________________________________________________________\n",
            "embedding (Embedding)           (None, 54, 200)      14268400    input_1[0][0]                    \n",
            "                                                                 input_2[0][0]                    \n",
            "__________________________________________________________________________________________________\n",
            "lstm (LSTM)                     (None, 54, 128)      168448      embedding[0][0]                  \n",
            "                                                                 embedding[1][0]                  \n",
            "__________________________________________________________________________________________________\n",
            "attention (attention)           (None, 128)          182         lstm[0][0]                       \n",
            "__________________________________________________________________________________________________\n",
            "attention_1 (attention)         (None, 128)          182         lstm[1][0]                       \n",
            "__________________________________________________________________________________________________\n",
            "lambda (Lambda)                 (None, 1)            0           attention[0][0]                  \n",
            "                                                                 attention_1[0][0]                \n",
            "==================================================================================================\n",
            "Total params: 14,437,212\n",
            "Trainable params: 14,437,212\n",
            "Non-trainable params: 0\n",
            "__________________________________________________________________________________________________\n"
          ],
          "name": "stdout"
        }
      ]
    },
    {
      "cell_type": "code",
      "metadata": {
        "colab": {
          "base_uri": "https://localhost:8080/"
        },
        "id": "xYnYfp36TrkS",
        "outputId": "dc912542-bf27-4c1f-b034-3b4a4388e6f5"
      },
      "source": [
        "#loading the model along with the attention layer information\n",
        "from keras.utils import CustomObjectScope\n",
        "from keras.models import load_model\n",
        "\n",
        "with CustomObjectScope({'attention': attention,'attention_1':attention}):\n",
        "    model1 = load_model('/content/model-010-0.823368.h5')"
      ],
      "execution_count": null,
      "outputs": [
        {
          "output_type": "stream",
          "text": [
            "(None, 54, 128)\n",
            "(None, 54, 128)\n"
          ],
          "name": "stdout"
        }
      ]
    },
    {
      "cell_type": "code",
      "metadata": {
        "colab": {
          "base_uri": "https://localhost:8080/"
        },
        "id": "hqu4_owcUUNL",
        "outputId": "32c3e944-1bb8-4a46-c0fb-ccda0e73344a"
      },
      "source": [
        "#Calculating the testing accuracy to check the performance of the model\n",
        "y_pred = model1.evaluate([test_q1,test_q2],test_labels, batch_size=1000, verbose=1)"
      ],
      "execution_count": null,
      "outputs": [
        {
          "output_type": "stream",
          "text": [
            "134/134 [==============================] - 5s 32ms/step - loss: 0.1298 - accuracy: 0.8234\n"
          ],
          "name": "stdout"
        }
      ]
    }
  ]
}
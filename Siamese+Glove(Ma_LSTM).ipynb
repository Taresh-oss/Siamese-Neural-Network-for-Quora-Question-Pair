{
  "nbformat": 4,
  "nbformat_minor": 0,
  "metadata": {
    "colab": {
      "name": "Siamese+Glove(Ma_LSTM).ipynb",
      "provenance": [],
      "collapsed_sections": []
    },
    "kernelspec": {
      "name": "python3",
      "display_name": "Python 3"
    },
    "accelerator": "GPU"
  },
  "cells": [
    {
      "cell_type": "code",
      "metadata": {
        "id": "UeErpzjPgRHq",
        "colab": {
          "base_uri": "https://localhost:8080/"
        },
        "outputId": "147d2b92-6d70-4a9d-ae89-ff0f30541525"
      },
      "source": [
        "#Importing all the packages for the required functionalities\n",
        "\n",
        "import warnings\n",
        "warnings.filterwarnings('ignore')\n",
        "#importing numpy library\n",
        "import numpy as np\n",
        "#importing pandas library\n",
        "import pandas as pd\n",
        "#importing seaborn library\n",
        "import seaborn as sns\n",
        "#imorting matplotlib library\n",
        "import matplotlib.pyplot as plt\n",
        "#Importing Library for train test split\n",
        "from sklearn.model_selection import train_test_split\n",
        "from string import punctuation\n",
        "import re\n",
        "import nltk\n",
        "nltk.download('punkt')\n",
        "nltk.download('stopwords')\n",
        "nltk.download('wordnet')\n",
        "import string\n",
        "from nltk.tokenize import word_tokenize\n",
        "from nltk.corpus import stopwords\n",
        "from keras.preprocessing.text import Tokenizer\n",
        "from keras.preprocessing.sequence import pad_sequences\n",
        "from keras.layers import Embedding\n",
        "import tensorflow as tf\n",
        "from tensorflow import keras\n",
        "from tensorflow.keras.layers import BatchNormalization,Dropout,Dense,Multiply,Flatten\n",
        "from tensorflow.keras.layers import LSTM\n",
        "import matplotlib.pyplot as plt"
      ],
      "execution_count": null,
      "outputs": [
        {
          "output_type": "stream",
          "text": [
            "[nltk_data] Downloading package punkt to /root/nltk_data...\n",
            "[nltk_data]   Package punkt is already up-to-date!\n",
            "[nltk_data] Downloading package stopwords to /root/nltk_data...\n",
            "[nltk_data]   Package stopwords is already up-to-date!\n",
            "[nltk_data] Downloading package wordnet to /root/nltk_data...\n",
            "[nltk_data]   Package wordnet is already up-to-date!\n"
          ],
          "name": "stdout"
        }
      ]
    },
    {
      "cell_type": "code",
      "metadata": {
        "colab": {
          "base_uri": "https://localhost:8080/"
        },
        "id": "eYrXI4c_gk02",
        "outputId": "d8819808-6ced-458c-b86a-6aa1ac07e4b6"
      },
      "source": [
        "#Mounting the drive to import the dataset, and the word embedding files\n",
        "from google.colab import drive\n",
        "drive.mount('/content/drive')"
      ],
      "execution_count": null,
      "outputs": [
        {
          "output_type": "stream",
          "text": [
            "Drive already mounted at /content/drive; to attempt to forcibly remount, call drive.mount(\"/content/drive\", force_remount=True).\n"
          ],
          "name": "stdout"
        }
      ]
    },
    {
      "cell_type": "code",
      "metadata": {
        "id": "smJa1cLYgW80",
        "colab": {
          "base_uri": "https://localhost:8080/"
        },
        "outputId": "67757f52-6b26-4a35-896d-5337b8391d5e"
      },
      "source": [
        "#Reading csv file of Question Pair Dataset Available publically\n",
        "Quora_questions = pd.read_csv(\"//content//drive//MyDrive//questions.csv\")\n",
        "print(\"Number of data points:\",Quora_questions.shape[0])"
      ],
      "execution_count": null,
      "outputs": [
        {
          "output_type": "stream",
          "text": [
            "Number of data points: 404351\n"
          ],
          "name": "stdout"
        }
      ]
    },
    {
      "cell_type": "code",
      "metadata": {
        "colab": {
          "base_uri": "https://localhost:8080/",
          "height": 195
        },
        "id": "JLMU1CTSuhVC",
        "outputId": "2bcaae40-986b-4cad-ff87-8ac7a1da97c1"
      },
      "source": [
        "#Splitting the dataset \n",
        "train,test = train_test_split(Quora_questions, test_size=0.33, random_state=42)\n",
        "train.head()"
      ],
      "execution_count": null,
      "outputs": [
        {
          "output_type": "execute_result",
          "data": {
            "text/html": [
              "<div>\n",
              "<style scoped>\n",
              "    .dataframe tbody tr th:only-of-type {\n",
              "        vertical-align: middle;\n",
              "    }\n",
              "\n",
              "    .dataframe tbody tr th {\n",
              "        vertical-align: top;\n",
              "    }\n",
              "\n",
              "    .dataframe thead th {\n",
              "        text-align: right;\n",
              "    }\n",
              "</style>\n",
              "<table border=\"1\" class=\"dataframe\">\n",
              "  <thead>\n",
              "    <tr style=\"text-align: right;\">\n",
              "      <th></th>\n",
              "      <th>id</th>\n",
              "      <th>qid1</th>\n",
              "      <th>qid2</th>\n",
              "      <th>question1</th>\n",
              "      <th>question2</th>\n",
              "      <th>is_duplicate</th>\n",
              "    </tr>\n",
              "  </thead>\n",
              "  <tbody>\n",
              "    <tr>\n",
              "      <th>181139</th>\n",
              "      <td>181139</td>\n",
              "      <td>357761</td>\n",
              "      <td>357762</td>\n",
              "      <td>What is the most interesting Road Trip Story y...</td>\n",
              "      <td>What are the best road trip songs?</td>\n",
              "      <td>0</td>\n",
              "    </tr>\n",
              "    <tr>\n",
              "      <th>284223</th>\n",
              "      <td>284223</td>\n",
              "      <td>558625</td>\n",
              "      <td>558626</td>\n",
              "      <td>How do I install a custom Rom in Spice mettle ...</td>\n",
              "      <td>How do I install a custom ROM in my rooted phone?</td>\n",
              "      <td>0</td>\n",
              "    </tr>\n",
              "    <tr>\n",
              "      <th>314840</th>\n",
              "      <td>314840</td>\n",
              "      <td>617874</td>\n",
              "      <td>617875</td>\n",
              "      <td>Has sugar hill gang's rapper's delight ever be...</td>\n",
              "      <td>What is the translation of the word \"by\" to Fr...</td>\n",
              "      <td>0</td>\n",
              "    </tr>\n",
              "    <tr>\n",
              "      <th>337099</th>\n",
              "      <td>337099</td>\n",
              "      <td>660891</td>\n",
              "      <td>660892</td>\n",
              "      <td>How do I study math?</td>\n",
              "      <td>How should I study math?</td>\n",
              "      <td>1</td>\n",
              "    </tr>\n",
              "    <tr>\n",
              "      <th>84444</th>\n",
              "      <td>84444</td>\n",
              "      <td>167712</td>\n",
              "      <td>167713</td>\n",
              "      <td>Which mobile development companies are based i...</td>\n",
              "      <td>Top mobile app companies in Miami Florida?</td>\n",
              "      <td>1</td>\n",
              "    </tr>\n",
              "  </tbody>\n",
              "</table>\n",
              "</div>"
            ],
            "text/plain": [
              "            id  ...  is_duplicate\n",
              "181139  181139  ...             0\n",
              "284223  284223  ...             0\n",
              "314840  314840  ...             0\n",
              "337099  337099  ...             1\n",
              "84444    84444  ...             1\n",
              "\n",
              "[5 rows x 6 columns]"
            ]
          },
          "metadata": {
            "tags": []
          },
          "execution_count": 4
        }
      ]
    },
    {
      "cell_type": "code",
      "metadata": {
        "colab": {
          "base_uri": "https://localhost:8080/"
        },
        "id": "e4tkbKv4wPzw",
        "outputId": "cee9a246-2c3a-4452-d1c4-b8025613b746"
      },
      "source": [
        "#Getting to  know the information regarding the dataset\n",
        "Quora_questions.info()"
      ],
      "execution_count": null,
      "outputs": [
        {
          "output_type": "stream",
          "text": [
            "<class 'pandas.core.frame.DataFrame'>\n",
            "RangeIndex: 404351 entries, 0 to 404350\n",
            "Data columns (total 6 columns):\n",
            " #   Column        Non-Null Count   Dtype \n",
            "---  ------        --------------   ----- \n",
            " 0   id            404351 non-null  int64 \n",
            " 1   qid1          404351 non-null  int64 \n",
            " 2   qid2          404351 non-null  int64 \n",
            " 3   question1     404350 non-null  object\n",
            " 4   question2     404349 non-null  object\n",
            " 5   is_duplicate  404351 non-null  int64 \n",
            "dtypes: int64(4), object(2)\n",
            "memory usage: 18.5+ MB\n"
          ],
          "name": "stdout"
        }
      ]
    },
    {
      "cell_type": "code",
      "metadata": {
        "colab": {
          "base_uri": "https://localhost:8080/",
          "height": 279
        },
        "id": "z6UEeKQBwd0Y",
        "outputId": "22bb9300-d1f6-4924-9627-f2dbc37bf053"
      },
      "source": [
        "#check the total questions that are duplicate as per is_dupliacte column and other way round. For TRAINING SET\n",
        "train['is_duplicate'].value_counts().plot.bar()"
      ],
      "execution_count": null,
      "outputs": [
        {
          "output_type": "execute_result",
          "data": {
            "text/plain": [
              "array([0, 0, 0, ..., 0, 0, 0])"
            ]
          },
          "metadata": {
            "tags": []
          },
          "execution_count": 6
        },
        {
          "output_type": "display_data",
          "data": {
            "image/png": "[encoded data removed]",
            "text/plain": [
              "<Figure size 432x288 with 1 Axes>"
            ]
          },
          "metadata": {
            "tags": [],
            "needs_background": "light"
          }
        }
      ]
    },
    {
      "cell_type": "code",
      "metadata": {
        "colab": {
          "base_uri": "https://localhost:8080/",
          "height": 279
        },
        "id": "x3bIUruxwgkb",
        "outputId": "4ce47ed7-7587-48fc-b375-671f5dd56c5b"
      },
      "source": [
        "#check the total questions that are duplicate as per is_dupliacte column and other way round. For TESTING SET\n",
        "test['is_duplicate'].value_counts().plot.bar()"
      ],
      "execution_count": null,
      "outputs": [
        {
          "output_type": "execute_result",
          "data": {
            "text/plain": [
              "<matplotlib.axes._subplots.AxesSubplot at 0x7f0fb28fd450>"
            ]
          },
          "metadata": {
            "tags": []
          },
          "execution_count": 7
        },
        {
          "output_type": "display_data",
          "data": {
            "image/png": "[encoded data removed]",
            "text/plain": [
              "<Figure size 432x288 with 1 Axes>"
            ]
          },
          "metadata": {
            "tags": [],
            "needs_background": "light"
          }
        }
      ]
    },
    {
      "cell_type": "code",
      "metadata": {
        "id": "-S8ATfdNwiNZ",
        "colab": {
          "base_uri": "https://localhost:8080/"
        },
        "outputId": "d2f42474-34c9-401c-a6bd-53956e39569b"
      },
      "source": [
        "#Dropping all the na values present in the training and testing set if any\n",
        "train.isna().values.any()\n",
        "train.dropna(inplace=True,axis=0)\n",
        "\n",
        "test.isna().values.any()\n",
        "test.dropna(inplace=True,axis=0)\n",
        "print(len(train))"
      ],
      "execution_count": null,
      "outputs": [
        {
          "output_type": "stream",
          "text": [
            "270912\n"
          ],
          "name": "stdout"
        }
      ]
    },
    {
      "cell_type": "code",
      "metadata": {
        "colab": {
          "base_uri": "https://localhost:8080/"
        },
        "id": "uKTgcodONl5-",
        "outputId": "594c9b5a-ede0-4457-deea-1e52e0c88dfc"
      },
      "source": [
        "'''converting the train and testing question pairs to list of questions that will be passed on to the lstm models after data cleaning,\n",
        "preprocessing, and embedding it with different embedding models'''\n",
        "\n",
        "train_q1=pd.Series(train.question1.tolist())\n",
        "train_q2=pd.Series(train.question2.tolist())\n",
        "test_q1=pd.Series(test.question1.tolist())\n",
        "test_q2=pd.Series(test.question2.tolist())\n",
        "train_q1[:5]\n",
        "print(len(train_q1))"
      ],
      "execution_count": null,
      "outputs": [
        {
          "output_type": "stream",
          "text": [
            "270912\n"
          ],
          "name": "stdout"
        }
      ]
    },
    {
      "cell_type": "code",
      "metadata": {
        "id": "r1mKIZcFNrdb"
      },
      "source": [
        "'''Function that basically performs the cleaning steps using the regex expressions namely lowering the case, substituting short forms to their base meaningful forms, removing\n",
        "the special symbols,and removal of stopwords.'''\n",
        "def cleaning_text(q):\n",
        "    cleaned_text=[]\n",
        "    for text in q:\n",
        "        text = text.lower()\n",
        "\n",
        "        pattern = re.compile('http[s]?://(?:[a-zA-Z]|[0-9]|[$-_@.&+]|[!*\\(\\),]|(?:%[0-9a-fA-F][0-9a-fA-F]))+')\n",
        "        text = pattern.sub('', text)\n",
        "        text = re.sub(r\"i'm\", \"i am\", text)\n",
        "        text = re.sub(r\"he's\", \"he is\", text)\n",
        "        text = re.sub(r\"she's\", \"she is\", text)\n",
        "        text = re.sub(r\"that's\", \"that is\", text)        \n",
        "        text = re.sub(r\"what's\", \"what is\", text)\n",
        "        text = re.sub(r\"where's\", \"where is\", text) \n",
        "        text = re.sub(r\"\\'ll\", \" will\", text)  \n",
        "        text = re.sub(r\"\\'ve\", \" have\", text)  \n",
        "        text = re.sub(r\"\\'re\", \" are\", text)\n",
        "        text = re.sub(r\"\\'d\", \" would\", text)\n",
        "        text = re.sub(r\"\\'ve\", \" have\", text)\n",
        "        text = re.sub(r\"won't\", \"will not\", text)\n",
        "        text = re.sub(r\"don't\", \"do not\", text)\n",
        "        text = re.sub(r\"did't\", \"did not\", text)\n",
        "        text = re.sub(r\"can't\", \"can not\", text)\n",
        "        text = re.sub(r\"it's\", \"it is\", text)\n",
        "        text = re.sub(r\"couldn't\", \"could not\", text)\n",
        "        text = re.sub(r\"have't\", \"have not\", text)\n",
        "\n",
        "        text = re.sub(r\"[,.\\\"!@#$%^&*(){}?/;`~:<>+=-]\", \"\", text)\n",
        "        tokens = word_tokenize(text)\n",
        "        table = str.maketrans('', '', string.punctuation)\n",
        "        stripped = [w.translate(table) for w in tokens]\n",
        "        words = [word for word in stripped if word.isalpha()]\n",
        "        stop_words = set(stopwords.words(\"english\"))\n",
        "        stop_words.discard(\"not\")\n",
        "        words = [w for w in words if not w in stop_words]\n",
        "        words = ' '.join(words)\n",
        "        cleaned_text.append(words)\n",
        "    return cleaned_text\n"
      ],
      "execution_count": null,
      "outputs": []
    },
    {
      "cell_type": "code",
      "metadata": {
        "id": "KlDDRMnmUB9O"
      },
      "source": [
        "''' defining the lemmatization function that will return the lemmatized string'''\n",
        "from nltk.tokenize import word_tokenize\n",
        "from nltk.stem.wordnet import WordNetLemmatizer\n",
        "wordnet = WordNetLemmatizer()\n",
        "\n",
        "def lemma(q1):\n",
        "    Lemmatized=[]\n",
        "    for sentences in q1:\n",
        "        tokens = word_tokenize(sentences)\n",
        "#         print(tokens)\n",
        "        # Lemmatization of words\n",
        "        \n",
        "        \n",
        "        lemmatized_output = ' '.join([wordnet.lemmatize(w,pos=\"v\") for w in tokens])\n",
        "        Lemmatized.append(lemmatized_output)\n",
        "    return Lemmatized"
      ],
      "execution_count": null,
      "outputs": []
    },
    {
      "cell_type": "code",
      "metadata": {
        "id": "1RLliN92UEUI"
      },
      "source": [
        "#storing the cleaned data\n",
        "cleaned_train_q1=cleaning_text(train_q1)\n",
        "cleaned_train_q2=cleaning_text(train_q2)\n",
        "cleaned_test_q1=cleaning_text(test_q1)\n",
        "cleaned_test_q2=cleaning_text(test_q2)"
      ],
      "execution_count": null,
      "outputs": []
    },
    {
      "cell_type": "code",
      "metadata": {
        "id": "it_lmxt_ZLtn"
      },
      "source": [
        "#storing the lemmatized question pairs:\n",
        "final_train_q1=lemma(cleaned_train_q1)\n",
        "final_train_q2=lemma(cleaned_train_q2)\n",
        "final_test_q1=lemma(cleaned_test_q1)\n",
        "final_test_q2=lemma(cleaned_test_q2)\n"
      ],
      "execution_count": null,
      "outputs": []
    },
    {
      "cell_type": "code",
      "metadata": {
        "colab": {
          "base_uri": "https://localhost:8080/"
        },
        "id": "dGUSeM5GIc3B",
        "outputId": "61832b4c-7a07-4639-baab-aaddec3963ce"
      },
      "source": [
        "'''storing all the labels for training and testing set'''\n",
        "train_labels=train['is_duplicate'].values\n",
        "test_labels=test['is_duplicate'].values"
      ],
      "execution_count": null,
      "outputs": [
        {
          "output_type": "stream",
          "text": [
            "270912\n",
            "133436\n"
          ],
          "name": "stdout"
        }
      ]
    },
    {
      "cell_type": "code",
      "metadata": {
        "id": "roKVjJAYct2O",
        "colab": {
          "base_uri": "https://localhost:8080/"
        },
        "outputId": "9b2501b8-ec12-4af9-c7be-84a964b70459"
      },
      "source": [
        "'''calculating the maximum length of questions after padding'''\n",
        "max_seq_length=0\n",
        "for i in final_train_q1:\n",
        "  max_seq_length=len(i.split(' ')) if len(i.split(' '))>max_seq_length else max_seq_length\n",
        "print(max_seq_length)"
      ],
      "execution_count": null,
      "outputs": [
        {
          "output_type": "stream",
          "text": [
            "53\n"
          ],
          "name": "stdout"
        }
      ]
    },
    {
      "cell_type": "code",
      "metadata": {
        "id": "0kEwJWJTc-UJ"
      },
      "source": [
        "#Using the keras tokenizer module to tokenize the lemmatized sequences and pad them accordingly\n",
        "tokenizer = Tokenizer(num_words=200000)\n",
        "tokenizer.fit_on_texts(final_train_q1+final_train_q2)\n",
        "\n",
        "tr_q1 = tokenizer.texts_to_sequences(final_train_q1)\n",
        "tr_q1 = pad_sequences(tr_q1, maxlen =54, padding='post')\n",
        "\n",
        "# tokenizer.fit_on_texts(final_train_q2)\n",
        "tr_q2 = tokenizer.texts_to_sequences(final_train_q2)\n",
        "tr_q2 = pad_sequences(tr_q2, maxlen = 54, padding='post')\n",
        "\n",
        "tokenizer1 = Tokenizer(num_words=200000)\n",
        "tokenizer1.fit_on_texts(final_test_q1+final_test_q2)\n",
        "\n",
        "test_q1 = tokenizer.texts_to_sequences(final_test_q1)\n",
        "test_q1 = pad_sequences(test_q1, maxlen = 54, padding='post')\n",
        "\n",
        "test_q2 = tokenizer.texts_to_sequences(final_test_q2)\n",
        "test_q2 = pad_sequences(test_q2, maxlen = 54, padding='post')\n"
      ],
      "execution_count": null,
      "outputs": []
    },
    {
      "cell_type": "code",
      "metadata": {
        "id": "YA3uV4OTkHVu",
        "colab": {
          "base_uri": "https://localhost:8080/"
        },
        "outputId": "0e8ad4c8-a512-4a86-c0f0-c6ac99d82d09"
      },
      "source": [
        "#calculating the total words in the vocabulary\n",
        "total_words=tokenizer.word_index"
      ],
      "execution_count": null,
      "outputs": [
        {
          "output_type": "stream",
          "text": [
            "270912 270912 270912\n"
          ],
          "name": "stdout"
        }
      ]
    },
    {
      "cell_type": "markdown",
      "metadata": {
        "id": "ElNNBJkB8Ukl"
      },
      "source": [
        "### **Importing the Glove pretrained model and embedding the Question Sequences**"
      ]
    },
    {
      "cell_type": "code",
      "metadata": {
        "id": "_Eiv1Nh_CzDa"
      },
      "source": [
        "embedding_index = {}\n",
        "with open('//content//drive//MyDrive//glove.6B.200d.txt','r',encoding=\"utf8\") as f:\n",
        "    for line in f:\n",
        "        values = line.split()\n",
        "        word = values[0]\n",
        "        vectors = np.asarray(values[1:], 'float32')\n",
        "        embedding_index[word] = vectors\n",
        "    f.close()"
      ],
      "execution_count": null,
      "outputs": []
    },
    {
      "cell_type": "code",
      "metadata": {
        "id": "Ws4BZW00IhXK"
      },
      "source": [
        "\n",
        "embedding_matrix = np.random.random((len(total_words)+1, 200))\n",
        "for word, i in total_words.items():\n",
        "    embedding_vector = embedding_index.get(word)\n",
        "    if embedding_vector is not None:\n",
        "        embedding_matrix[i] = embedding_vector"
      ],
      "execution_count": null,
      "outputs": []
    },
    {
      "cell_type": "code",
      "metadata": {
        "id": "vs0aY_ko8mln"
      },
      "source": [
        "#Defining the Manhattan distance function\n",
        "def exponent_neg_manhattan_distance(left, right):\n",
        "    ''' Helper function for the similarity estimate of the LSTMs outputs'''\n",
        "    return K.exp(-K.sum(K.abs(left-right), axis=1, keepdims=True))"
      ],
      "execution_count": null,
      "outputs": []
    },
    {
      "cell_type": "code",
      "metadata": {
        "id": "1lEL7TkAuCil"
      },
      "source": [
        "# Model structure for both the input questions\n",
        "gradient_clipping_norm = 1.25\n",
        "\n",
        "# The visible layer\n",
        "left_input = tf.keras.layers.Input(shape=(54,), dtype='int32')\n",
        "right_input = tf.keras.layers.Input(shape=(54,), dtype='int32')\n",
        "\n",
        "embedding_layer = tf.keras.layers.Embedding(input_dim = len(total_words)+1,\\\n",
        "                       output_dim = 200,weights = [embedding_matrix],\\\n",
        "                      input_length = 54)\n",
        "\n",
        "# Embedded version of the inputs\n",
        "encoded_left = embedding_layer(left_input)\n",
        "encoded_right = embedding_layer(right_input)\n",
        "\n",
        "# Since this is a siamese network, both sides share the same LSTM\n",
        "shared_lstm = LSTM(128,activation = 'tanh')\n",
        "\n",
        "left_output = shared_lstm(encoded_left)\n",
        "right_output = shared_lstm(encoded_right)\n",
        "\n",
        "# Calculates the distance as defined by the MaLSTM model\n",
        "malstm_distance = tf.keras.layers.Lambda(function=lambda x: exponent_neg_manhattan_distance(x[0], x[1]),output_shape=lambda x: (x[0][0], 1))([left_output, right_output])\n",
        "\n",
        "# Pack it all up into a model\n",
        "malstm = Model([left_input, right_input], [malstm_distance])\n",
        "\n",
        "\n",
        "malstm.compile(loss='mean_squared_error', optimizer='adam', metrics=['accuracy'])\n",
        "\n",
        "from keras.callbacks import ModelCheckpoint\n",
        "checkpoint = ModelCheckpoint('model-{epoch:03d}-{val_accuracy:03f}.h5', verbose=1, monitor='val_accuracy',save_best_only=True, mode='auto')"
      ],
      "execution_count": null,
      "outputs": []
    },
    {
      "cell_type": "code",
      "metadata": {
        "colab": {
          "base_uri": "https://localhost:8080/"
        },
        "id": "UeXfHrysM8Fu",
        "outputId": "5673ef70-0d16-4a8f-f295-a35f1927b479"
      },
      "source": [
        "malstm_trained = malstm.fit([tr_q1, tr_q2], train_labels, batch_size=1000, epochs=10,validation_data=([test_q1,test_q2], test_labels), callbacks=[checkpoint], verbose=1)"
      ],
      "execution_count": null,
      "outputs": [
        {
          "output_type": "stream",
          "text": [
            "Epoch 1/10\n",
            "271/271 [==============================] - 95s 235ms/step - loss: 0.2426 - accuracy: 0.6410 - val_loss: 0.1717 - val_accuracy: 0.7591\n",
            "\n",
            "Epoch 00001: val_accuracy improved from -inf to 0.75908, saving model to model-001-0.759083.h5\n",
            "Epoch 2/10\n",
            "271/271 [==============================] - 62s 228ms/step - loss: 0.1555 - accuracy: 0.7860 - val_loss: 0.1551 - val_accuracy: 0.7876\n",
            "\n",
            "Epoch 00002: val_accuracy improved from 0.75908 to 0.78764, saving model to model-002-0.787643.h5\n",
            "Epoch 3/10\n",
            "271/271 [==============================] - 61s 226ms/step - loss: 0.1332 - accuracy: 0.8229 - val_loss: 0.1523 - val_accuracy: 0.7921\n",
            "\n",
            "Epoch 00003: val_accuracy improved from 0.78764 to 0.79215, saving model to model-003-0.792148.h5\n",
            "Epoch 4/10\n",
            "271/271 [==============================] - 61s 224ms/step - loss: 0.1206 - accuracy: 0.8439 - val_loss: 0.1451 - val_accuracy: 0.8043\n",
            "\n",
            "Epoch 00004: val_accuracy improved from 0.79215 to 0.80431, saving model to model-004-0.804311.h5\n",
            "Epoch 5/10\n",
            "271/271 [==============================] - 61s 224ms/step - loss: 0.1123 - accuracy: 0.8577 - val_loss: 0.1436 - val_accuracy: 0.8058\n",
            "\n",
            "Epoch 00005: val_accuracy improved from 0.80431 to 0.80581, saving model to model-005-0.805809.h5\n",
            "Epoch 6/10\n",
            "271/271 [==============================] - 61s 226ms/step - loss: 0.1054 - accuracy: 0.8686 - val_loss: 0.1414 - val_accuracy: 0.8113\n",
            "\n",
            "Epoch 00006: val_accuracy improved from 0.80581 to 0.81125, saving model to model-006-0.811250.h5\n",
            "Epoch 7/10\n",
            "271/271 [==============================] - 60s 220ms/step - loss: 0.1006 - accuracy: 0.8767 - val_loss: 0.1399 - val_accuracy: 0.8133\n",
            "\n",
            "Epoch 00007: val_accuracy improved from 0.81125 to 0.81327, saving model to model-007-0.813266.h5\n",
            "Epoch 8/10\n",
            "271/271 [==============================] - 60s 223ms/step - loss: 0.0951 - accuracy: 0.8852 - val_loss: 0.1385 - val_accuracy: 0.8155\n",
            "\n",
            "Epoch 00008: val_accuracy improved from 0.81327 to 0.81548, saving model to model-008-0.815477.h5\n",
            "Epoch 9/10\n",
            "271/271 [==============================] - 59s 219ms/step - loss: 0.0912 - accuracy: 0.8916 - val_loss: 0.1386 - val_accuracy: 0.8156\n",
            "\n",
            "Epoch 00009: val_accuracy improved from 0.81548 to 0.81555, saving model to model-009-0.815552.h5\n",
            "Epoch 10/10\n",
            "271/271 [==============================] - 61s 224ms/step - loss: 0.0875 - accuracy: 0.8976 - val_loss: 0.1393 - val_accuracy: 0.8133\n",
            "\n",
            "Epoch 00010: val_accuracy did not improve from 0.81555\n"
          ],
          "name": "stdout"
        }
      ]
    },
    {
      "cell_type": "code",
      "metadata": {
        "colab": {
          "base_uri": "https://localhost:8080/",
          "height": 545
        },
        "id": "XW4JsVYSNZMZ",
        "outputId": "24f3671f-a4f5-470a-f3f1-d0cd7a25b83e"
      },
      "source": [
        "# Plot results\n",
        "\n",
        "acc = malstm_trained.history['accuracy']\n",
        "val_acc = malstm_trained.history['val_accuracy']\n",
        "loss = malstm_trained.history['loss']\n",
        "val_loss = malstm_trained.history['val_loss']\n",
        "\n",
        "epochs = range(1, len(acc)+1)\n",
        "\n",
        "plt.plot(epochs, acc, 'g', label='Training accuracy')\n",
        "plt.plot(epochs, val_acc, 'r', label='Validation accuracy')\n",
        "plt.title('Training and validation accuracy')\n",
        "plt.legend()\n",
        "\n",
        "plt.figure()\n",
        "\n",
        "plt.plot(epochs, loss, 'g', label='Training loss')\n",
        "plt.plot(epochs, val_loss, 'r', label='Validation loss')\n",
        "plt.title('Training and validation loss')\n",
        "plt.legend()\n",
        "\n",
        "plt.show()"
      ],
      "execution_count": null,
      "outputs": [
        {
          "output_type": "display_data",
          "data": {
            "image/png": "[encoded data removed]",
            "text/plain": [
              "<Figure size 432x288 with 1 Axes>"
            ]
          },
          "metadata": {
            "tags": [],
            "needs_background": "light"
          }
        },
        {
          "output_type": "display_data",
          "data": {
            "image/png": "[encoded data removed]",
            "text/plain": [
              "<Figure size 432x288 with 1 Axes>"
            ]
          },
          "metadata": {
            "tags": [],
            "needs_background": "light"
          }
        }
      ]
    },
    {
      "cell_type": "code",
      "metadata": {
        "id": "vvT_jWwBuIsQ"
      },
      "source": [
        "#Loading the best  validation model\n",
        "model1=tf.keras.models.load_model('/content/model-009-0.815552.h5')"
      ],
      "execution_count": null,
      "outputs": []
    },
    {
      "cell_type": "code",
      "metadata": {
        "colab": {
          "base_uri": "https://localhost:8080/"
        },
        "id": "kNkZQeAmuJsE",
        "outputId": "3c5b4156-f253-4c3a-97c8-707962458602"
      },
      "source": [
        "#Calculating the testing accuracy to check the performance of the model\n",
        "y_pred = model1.evaluate([test_q1,test_q2],test_labels, batch_size=1000, verbose=1)"
      ],
      "execution_count": null,
      "outputs": [
        {
          "output_type": "stream",
          "text": [
            "134/134 [==============================] - 5s 30ms/step - loss: 0.1386 - accuracy: 0.8156\n"
          ],
          "name": "stdout"
        }
      ]
    }
  ]
}